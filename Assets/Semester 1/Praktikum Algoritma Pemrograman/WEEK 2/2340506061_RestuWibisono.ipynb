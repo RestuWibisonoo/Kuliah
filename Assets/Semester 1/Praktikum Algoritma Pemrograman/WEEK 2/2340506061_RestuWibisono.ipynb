{
 "cells": [
  {
   "cell_type": "code",
   "execution_count": 27,
   "metadata": {},
   "outputs": [
    {
     "name": "stdout",
     "output_type": "stream",
     "text": [
      "Panjang = 20.5\n",
      "Lebar = 25\n",
      "Tinggi = 10\n",
      "Keliling = 91.0\n",
      "Volume = 5125.0\n"
     ]
    }
   ],
   "source": [
    "panjang = 20.5\n",
    "lebar = 25\n",
    "tinggi = 10\n",
    "\n",
    "keliling = 2*(panjang+lebar)\n",
    "luas = panjang*lebar\n",
    "volum = panjang*lebar*tinggi\n",
    "\n",
    "print(\"Panjang =\", panjang)\n",
    "print(\"Lebar =\", lebar)\n",
    "print(\"Tinggi =\", tinggi)\n",
    "print(\"Keliling =\", keliling)\n",
    "print(\"Volume =\", volum)"
   ]
  },
  {
   "cell_type": "code",
   "execution_count": 47,
   "metadata": {},
   "outputs": [
    {
     "name": "stdout",
     "output_type": "stream",
     "text": [
      "1. Rata-rata nilai Shafira pada kedua mata kuliah\n",
      "Rata-rata nilai Shafira = 80.0\n",
      "\n",
      "2. Jumlah nilai Hanif dan Andi untuk semua mata kuliah\n",
      "Jumlah nilai Hanif dan Andi = 310\n",
      "\n",
      "3. Rata-rata nilai Widya, Dhanar, Hikma dan Nedia pada masing-masing mata kuliah\n",
      "Nilai rata-rata pada mata kuliah kalkulus = 86.25\n",
      "Nilai rata-rata pada mata kuliah metode statistika = 81.25\n",
      "\n",
      "4. Rata-rata nilai mata kuliah Kalkulus 1 untuk semua mahasiswa\n",
      "Nilai rata-rata mata kuliah Kalkulus 1 = 81.11111111111111\n",
      "\n",
      "5. Rata-rata nilai mata kuliah Metode Statistika untuk semua mahasiswa\n",
      "Nilai rata-rata mata kuliah Metode Statistika = 81\n"
     ]
    }
   ],
   "source": [
    "\n",
    "Shafira1 = 85\n",
    "Amanda1 = 80\n",
    "Aditya1 = 75\n",
    "Neida1 = 95\n",
    "Widya1 = 85\n",
    "Hanif1 = 75\n",
    "Andi1 = 70\n",
    "Dhanar1 = 85\n",
    "Hikma1 = 80\n",
    "\n",
    "Shafira2 = 75\n",
    "Amanda2 = 90\n",
    "Aditya2 = 80\n",
    "Neida2 = 80\n",
    "Widya2 = 85\n",
    "Hanif2 = 90\n",
    "Andi2 = 75\n",
    "Dhanar2 = 85\n",
    "Hikma2 = 75\n",
    "\n",
    "total1 = Shafira1+Amanda1+Aditya1+Neida1+Widya1+Hanif1+Andi1+Dhanar1+Hikma1\n",
    "total2 = Shafira2+Amanda2+Aditya2+Neida2+Widya2+Hanif2+Andi2+Dhanar2+Hikma2\n",
    "\n",
    "print(\"1. Rata-rata nilai Shafira pada kedua mata kuliah\")\n",
    "RShafira = (Shafira1+Shafira2)/2\n",
    "print(\"Rata-rata nilai Shafira =\", RShafira )\n",
    "print()\n",
    "print(\"2. Jumlah nilai Hanif dan Andi untuk semua mata kuliah\")\n",
    "JHA = Hanif1+Hanif2+Andi1+Andi2\n",
    "print(\"Jumlah nilai Hanif dan Andi =\", JHA)\n",
    "print()\n",
    "print(\"3. Rata-rata nilai Widya, Dhanar, Hikma dan Nedia pada masing-masing mata kuliah\")\n",
    "RK = (Widya1+Dhanar1+Hikma1+Neida1)/4\n",
    "RMS = (Widya2+Dhanar2+Hikma2+Neida2)/4\n",
    "print(\"Nilai rata-rata pada mata kuliah kalkulus =\", RK)\n",
    "print(\"Nilai rata-rata pada mata kuliah metode statistika =\", RMS)\n",
    "print()\n",
    "print(\"4. Rata-rata nilai mata kuliah Kalkulus 1 untuk semua mahasiswa\")\n",
    "R1a = total1/9\n",
    "R1b = total1//9\n",
    "print(\"Nilai rata-rata mata kuliah Kalkulus 1 =\", R1a)\n",
    "print()\n",
    "print(\"5. Rata-rata nilai mata kuliah Metode Statistika untuk semua mahasiswa\")\n",
    "R2a = total2/9\n",
    "R2b = total2//9\n",
    "print(\"Nilai rata-rata mata kuliah Metode Statistika =\", R2b)"
   ]
  },
  {
   "cell_type": "code",
   "execution_count": 7,
   "metadata": {},
   "outputs": [
    {
     "name": "stdout",
     "output_type": "stream",
     "text": [
      "1. Gaji pada bulan Agustus jika Dwi tidak masuk kerja selama 3 hari, berapa gaji yang diterima oleh Dwi.\n",
      "Gaji pada Bulan Agustus = 6720000\n",
      "\n",
      "2. Apabila terdapat tunjangan bagi karyawan yang bekerja lebih dari 5 tahun sebesar 10% dari total gaji yang diterima setiap bulan, tentukan jumlah tunjangan yang diterima oleh Dwi pada bulan Agustus.\n",
      "Mendapatkan tunjangan = 672000\n",
      "\n",
      "3. Apabila pada bulan Agustus Dwi mendapatkan tugas lembur selama 5 jam, tentukan gaji total yang diterima oleh Dwi pada bulan Agustus. (upah lembur : Rp 10.000,- per jam)\n",
      "Gaji dengan kerja lembur = 7442000\n"
     ]
    }
   ],
   "source": [
    "\n",
    "\n",
    "\n",
    "print(\"1. Gaji pada bulan Agustus jika Dwi tidak masuk kerja selama 3 hari, berapa gaji yang diterima oleh Dwi.\")\n",
    "gajiA = 28*8*30000\n",
    "print(\"Gaji pada Bulan Agustus =\", gajiA)\n",
    "print()\n",
    "print(\"2. Apabila terdapat tunjangan bagi karyawan yang bekerja lebih dari 5 tahun sebesar 10% dari total gaji yang diterima setiap bulan, tentukan jumlah tunjangan yang diterima oleh Dwi pada bulan Agustus.\")\n",
    "gajiT = gajiA*10//100\n",
    "print(\"Mendapatkan tunjangan =\", gajiT)\n",
    "print()\n",
    "print(\"3. Apabila pada bulan Agustus Dwi mendapatkan tugas lembur selama 5 jam, tentukan gaji total yang diterima oleh Dwi pada bulan Agustus. (upah lembur : Rp 10.000,- per jam)\")\n",
    "GajiL = gajiA+gajiT+(5*10000)\n",
    "print(\"Gaji dengan kerja lembur =\", GajiL)\n"
   ]
  }
 ],
 "metadata": {
  "kernelspec": {
   "display_name": "Python 3",
   "language": "python",
   "name": "python3"
  },
  "language_info": {
   "codemirror_mode": {
    "name": "ipython",
    "version": 3
   },
   "file_extension": ".py",
   "mimetype": "text/x-python",
   "name": "python",
   "nbconvert_exporter": "python",
   "pygments_lexer": "ipython3",
   "version": "3.11.5"
  },
  "orig_nbformat": 4
 },
 "nbformat": 4,
 "nbformat_minor": 2
}
