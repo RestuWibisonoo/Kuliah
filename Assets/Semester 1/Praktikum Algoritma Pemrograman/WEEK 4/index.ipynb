{
 "cells": [
  {
   "cell_type": "code",
   "execution_count": 1,
   "metadata": {},
   "outputs": [
    {
     "name": "stdout",
     "output_type": "stream",
     "text": [
      "Tidak Boleh Buat SIM\n"
     ]
    }
   ],
   "source": [
    "#Weekly Exercise 1\n",
    "\n",
    "#Masukkan Umur\n",
    "umr = int(input(\"Masukkan umur kamu\"))\n",
    "\n",
    "if umr >= 17:\n",
    "    print(\"Boleh Buat SIM\")\n",
    "else:\n",
    "    print(\"Tidak Boleh Buat SIM\")"
   ]
  },
  {
   "cell_type": "code",
   "execution_count": 6,
   "metadata": {},
   "outputs": [
    {
     "name": "stdout",
     "output_type": "stream",
     "text": [
      "B+\n"
     ]
    }
   ],
   "source": [
    "#Weekly Exercise 2\n",
    "\n",
    "#Masukkan nilai\n",
    "nilai = int(input(\"Masukkan nilai kamu\"))\n",
    "\n",
    "if nilai >= 90:\n",
    "    print(\"A\")\n",
    "elif nilai >= 80:\n",
    "    print(\"B+\")\n",
    "elif nilai >= 70:\n",
    "    print(\"B\")\n",
    "elif nilai >= 60:\n",
    "    print(\"C+\")\n",
    "elif nilai >= 50:\n",
    "    print(\"C\")\n",
    "elif nilai >= 40:\n",
    "    print(\"D\")\n",
    "else:\n",
    "    print(\"E\")\n"
   ]
  },
  {
   "cell_type": "code",
   "execution_count": 20,
   "metadata": {},
   "outputs": [
    {
     "name": "stdout",
     "output_type": "stream",
     "text": [
      "C-\n"
     ]
    }
   ],
   "source": [
    "#Weekly Exercise 3\n",
    "\n",
    "pn = float(input(\"Masukkan nilai kamu\"))\n",
    "\n",
    "if (pn <= 100) and (pn >= 80.00):\n",
    "    print(\"A\")\n",
    "elif (pn <= 79.99) and (pn >= 77.50):\n",
    "    print(\"A-\")\n",
    "elif (pn <= 77.49) and (pn >= 75.00):\n",
    "    print(\"A/B\")\n",
    "elif (pn <= 74.99) and (pn >= 72.50):\n",
    "    print(\"B+\")\n",
    "elif (pn <= 72.49) and (pn >= 70.00):\n",
    "    print(\"B\")\n",
    "elif (pn <= 69.99) and (pn >= 67.50):\n",
    "    print(\"B-\")\n",
    "elif (pn <= 67.49) and (pn >= 65.00):\n",
    "    print(\"B/C\")\n",
    "elif (pn <= 64.99) and (pn >= 62.50):\n",
    "    print(\"C+\")\n",
    "elif (pn <= 62.49) and (pn >= 60.00):\n",
    "    print(\"C\")\n",
    "elif (pn <= 59.99) and (pn >= 55.00):\n",
    "    print(\"C-\")\n",
    "elif (pn <= 54.99) and (pn >= 50.00):\n",
    "    print(\"C/D\")\n",
    "elif (pn <= 49.99) and (pn >= 45.00):\n",
    "    print(\"D+\")\n",
    "elif (pn <= 44.99) and (pn >= 40.00):\n",
    "    print(\"D\")\n",
    "else:\n",
    "    print(\"E\")\n",
    "\n"
   ]
  },
  {
   "cell_type": "code",
   "execution_count": null,
   "metadata": {},
   "outputs": [
    {
     "name": "stdout",
     "output_type": "stream",
     "text": [
      "C/D\n"
     ]
    }
   ],
   "source": [
    "#Weekly Exercise 3\n",
    "\n",
    "pn = float(input(\"Masukkan nilai kamu\"))\n",
    "\n",
    "if 100.00 >= pn >= 80.00:\n",
    "    print(\"A\")\n",
    "elif 79.99 >= pn >= 77.50:\n",
    "    print(\"A-\")\n",
    "elif 77.49 >= pn >= 75.00:\n",
    "    print(\"A/B\")\n",
    "elif 74.99 >= pn >= 72.50:\n",
    "    print(\"B+\")\n",
    "elif 70.00 >= pn >= 72.49:\n",
    "    print(\"B\")\n",
    "elif 69.99 >= pn >= 67.50:\n",
    "    print(\"B-\")\n",
    "elif 67.49 >= pn >= 65.00:\n",
    "    print(\"B/C\")\n",
    "elif 64.99 >= pn >= 62.50:\n",
    "    print(\"C+\")\n",
    "elif 62.49 >= pn >= 60.00:\n",
    "    print(\"C\")\n",
    "elif 59.99 >= pn >= 55.00:\n",
    "    print(\"C-\")\n",
    "elif 54.99 >= pn >= 50.00:\n",
    "    print(\"C/D\")\n",
    "elif 49.99 >= pn >= 45.00:\n",
    "    print(\"D+\")\n",
    "elif 44.99 >= pn >= 40.00:\n",
    "    print(\"D\")\n",
    "else:\n",
    "    print(\"E\")\n",
    "\n"
   ]
  }
 ],
 "metadata": {
  "kernelspec": {
   "display_name": "Python 3",
   "language": "python",
   "name": "python3"
  },
  "language_info": {
   "codemirror_mode": {
    "name": "ipython",
    "version": 3
   },
   "file_extension": ".py",
   "mimetype": "text/x-python",
   "name": "python",
   "nbconvert_exporter": "python",
   "pygments_lexer": "ipython3",
   "version": "3.11.5"
  },
  "orig_nbformat": 4
 },
 "nbformat": 4,
 "nbformat_minor": 2
}
