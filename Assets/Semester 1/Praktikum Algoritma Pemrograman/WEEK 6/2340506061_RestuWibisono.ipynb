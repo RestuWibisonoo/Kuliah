{
 "cells": [
  {
   "cell_type": "code",
   "execution_count": 39,
   "metadata": {},
   "outputs": [
    {
     "name": "stdout",
     "output_type": "stream",
     "text": [
      "     *\n",
      "    ***\n",
      "   *****\n",
      "  *******\n",
      " *********\n"
     ]
    }
   ],
   "source": [
    "t = int(input(\"masukkan tinggi segitiga\"))\n",
    "for i in range (1, t+1):\n",
    "\n",
    "    print ((t-i+1) * \" \" + (2*i-1) * \"*\")"
   ]
  },
  {
   "cell_type": "code",
   "execution_count": 3,
   "metadata": {},
   "outputs": [
    {
     "name": "stdout",
     "output_type": "stream",
     "text": [
      "    *\n",
      "   * *\n",
      "  * * *\n",
      " * * * *\n",
      "* * * * *\n"
     ]
    }
   ],
   "source": [
    "# Weekly Exercise 1\n",
    "t = int(input(\"masukkan tinggi segitiga\"))\n",
    "\n",
    "for i in range(1, t + 1):\n",
    "    for j in range(t - 1 * i):\n",
    "        print(\" \", end = \"\")\n",
    "    for j in range(i * 2 - 1):\n",
    "        if j % 2 == 0 :\n",
    "            print(\"*\", end = \"\")\n",
    "        else:\n",
    "            print(\" \", end = \"\")\n",
    "    print()"
   ]
  },
  {
   "cell_type": "code",
   "execution_count": null,
   "metadata": {},
   "outputs": [
    {
     "name": "stdout",
     "output_type": "stream",
     "text": [
      "     \n",
      "    1 \n",
      "   1 1 \n",
      "  1 2 1 \n",
      " 1 3 3 1 \n",
      "1 4 6 4 1 \n"
     ]
    }
   ],
   "source": [
    "# Weekly Exercise 2\n",
    "n = int(input(\"masukkan tinggi segitiga pascal\"))\n",
    "\n",
    "for i in range(n+1):\n",
    "    for j in range (n-1*i):\n",
    "        print (' ', end = \"\")\n",
    "    \n",
    "    p = 1\n",
    "    for j in range(1, i+1):\n",
    "        print(p, ' ', sep='', end ='')\n",
    "        p = p * (i - j) // j\n",
    "    print()"
   ]
  },
  {
   "cell_type": "code",
   "execution_count": 1,
   "metadata": {},
   "outputs": [
    {
     "name": "stdout",
     "output_type": "stream",
     "text": [
      "Jadi jumlah nilai dalam segitiga pascal dibaris 5 adalah 16\n"
     ]
    }
   ],
   "source": [
    "# Weekly Exercise 3\n",
    "def jumlahBarisKe(n):\n",
    "    row = [1]\n",
    "\n",
    "    for i in range(1, n):\n",
    "        nextRow = [1]\n",
    "        for j in range(1, i):\n",
    "            nextRow.append(row[j-1] + row[j])\n",
    "        nextRow.append(1)\n",
    "        row = nextRow\n",
    "\n",
    "    return sum(row)\n",
    "\n",
    "\n",
    "n = int(input(\"Masukkan angka: \"))\n",
    "rowSum = jumlahBarisKe(n)\n",
    "print(\"Jadi jumlah nilai dalam segitiga pascal dibaris\", n,\"adalah\", rowSum)"
   ]
  }
 ],
 "metadata": {
  "kernelspec": {
   "display_name": "Python 3",
   "language": "python",
   "name": "python3"
  },
  "language_info": {
   "codemirror_mode": {
    "name": "ipython",
    "version": 3
   },
   "file_extension": ".py",
   "mimetype": "text/x-python",
   "name": "python",
   "nbconvert_exporter": "python",
   "pygments_lexer": "ipython3",
   "version": "3.11.5"
  },
  "orig_nbformat": 4
 },
 "nbformat": 4,
 "nbformat_minor": 2
}
