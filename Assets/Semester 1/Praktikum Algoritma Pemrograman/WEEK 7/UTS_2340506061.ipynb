{
 "cells": [
  {
   "cell_type": "code",
   "execution_count": 1,
   "metadata": {},
   "outputs": [
    {
     "name": "stdout",
     "output_type": "stream",
     "text": [
      "Apakah kamu termasuk member? (y/n):\n",
      "Pilihan jenis kamar:\n",
      "1. Suite (Rp 1.000.000/hari)\n",
      "2. Superior (Rp 600.000/hari)\n",
      "3. Deluxe (Rp 400.000/hari)\n",
      "Info tamu:\n",
      "Nama: Restu Wibisono\n",
      "Alamat: Tambakboyo\n",
      "Member Hotel: Bukan Member\n",
      "Tamu Restu Wibisono beralamat Tambakboyo memilih kamar tipe nomor 1 ,menginap 2 hari dengan total biaya sebesar Rp 2000000\n"
     ]
    }
   ],
   "source": [
    "def biaya(lama, harga, member):\n",
    "    if member == \"y\":\n",
    "        potongan = 20/100\n",
    "    else:\n",
    "        potongan = 0\n",
    "    total = harga*lama*(1-potongan)\n",
    "    return total\n",
    "\n",
    "nama = input(\"Masukkan nama:\")\n",
    "alamat = input(\"Masukkan alamat:\")\n",
    "print(\"Apakah kamu termasuk member? (y/n):\")\n",
    "member = input(\"Apakah kamu member (y/n)?\")\n",
    "while member not in ['y', 'n']:\n",
    "    print(\"Ulangi. Harap masukkan 'y' atau 'n'.\")\n",
    "    member = input()\n",
    "\n",
    "print(\"Pilihan jenis kamar:\")\n",
    "print(\"1. Suite (Rp 1.000.000/hari)\")\n",
    "print(\"2. Superior (Rp 600.000/hari)\")\n",
    "print(\"3. Deluxe (Rp 400.000/hari)\")\n",
    "\n",
    "jenis = int(input(\"Masukkan jenis kamar yang akan dipilih (1 / 2 / 3):\"))\n",
    "while jenis not in [1, 2, 3]:\n",
    "    print(\"Pilihan tidak valid. Harap masukkan 1, 2, atau 3.\")\n",
    "    jenis = int(input())\n",
    "\n",
    "if jenis == 1:\n",
    "    harga = 1000000\n",
    "elif jenis == 2:\n",
    "    harga = 600000\n",
    "else:\n",
    "    harga = 400000\n",
    "\n",
    "lama = int(input(\"Lama tamu menginap (dalam hari):\"))\n",
    "total = biaya(lama, harga, member)\n",
    "\n",
    "print(\"Info tamu:\")\n",
    "print(\"Nama:\", nama)\n",
    "print(\"Alamat:\", alamat)\n",
    "\n",
    "if member == 'y':\n",
    "    print(\"Member Hotel: Member\")\n",
    "else:\n",
    "    print(\"Member Hotel: Bukan Member\")\n",
    "\n",
    "print(\"Tamu\", nama,\"beralamat\", alamat,\"memilih kamar tipe nomor\", jenis,\",menginap\", lama,\"hari dengan total biaya sebesar Rp\", total)\n"
   ]
  }
 ],
 "metadata": {
  "kernelspec": {
   "display_name": "Python 3",
   "language": "python",
   "name": "python3"
  },
  "language_info": {
   "codemirror_mode": {
    "name": "ipython",
    "version": 3
   },
   "file_extension": ".py",
   "mimetype": "text/x-python",
   "name": "python",
   "nbconvert_exporter": "python",
   "pygments_lexer": "ipython3",
   "version": "3.11.0"
  },
  "orig_nbformat": 4
 },
 "nbformat": 4,
 "nbformat_minor": 2
}
