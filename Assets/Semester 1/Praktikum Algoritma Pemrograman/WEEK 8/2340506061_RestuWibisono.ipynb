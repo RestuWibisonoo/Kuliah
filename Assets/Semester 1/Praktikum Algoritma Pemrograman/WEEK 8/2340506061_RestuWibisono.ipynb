{
 "cells": [
  {
   "cell_type": "code",
   "execution_count": 21,
   "metadata": {},
   "outputs": [
    {
     "name": "stdout",
     "output_type": "stream",
     "text": [
      "Tipe kamar hanya ada (1/2/3)\n",
      "Harga yang harus tamu bayar Rp. 0  dengan untuk menginap selama 3  hari\n"
     ]
    }
   ],
   "source": [
    "nama = input(\"Masukkan nama:\")\n",
    "alamat = input(\"Masukkan alamat:\")\n",
    "member = input(\"Apakah kamu adalah member hotel (Y/N)?\")\n",
    "hari = int(input(\"Masukkan lama menginap (dalam hari):\"))\n",
    "tipe = input(\"Tipe kamar:\")\n",
    "\n",
    "if member == 'Y':\n",
    "    if tipe == '1':\n",
    "        harga = 1000000\n",
    "    elif tipe == '2':\n",
    "        harga = 600000\n",
    "    elif tipe == '3':\n",
    "        harga = 400000\n",
    "    else:\n",
    "        print(\"Tipe kamar hanya ada (1/2/3)\")\n",
    "        harga = 0\n",
    "\n",
    "    diskon = harga * 5/100\n",
    "    harga = harga - diskon\n",
    "else:\n",
    "    if tipe == '1':\n",
    "        harga = 1000000\n",
    "    elif tipe == '2':\n",
    "        harga = 600000\n",
    "    elif tipe == '3':\n",
    "        harga = 400000\n",
    "    else:\n",
    "        print(\"Tipe kamar hanya ada (1/2/3)\")\n",
    "        harga = 0\n",
    "\n",
    "total = harga * hari\n",
    "print(\"Harga yang harus tamu bayar Rp.\", total,\" dengan untuk menginap selama\", hari,\" hari\")"
   ]
  }
 ],
 "metadata": {
  "kernelspec": {
   "display_name": "Python 3",
   "language": "python",
   "name": "python3"
  },
  "language_info": {
   "codemirror_mode": {
    "name": "ipython",
    "version": 3
   },
   "file_extension": ".py",
   "mimetype": "text/x-python",
   "name": "python",
   "nbconvert_exporter": "python",
   "pygments_lexer": "ipython3",
   "version": "3.11.6"
  },
  "orig_nbformat": 4
 },
 "nbformat": 4,
 "nbformat_minor": 2
}
