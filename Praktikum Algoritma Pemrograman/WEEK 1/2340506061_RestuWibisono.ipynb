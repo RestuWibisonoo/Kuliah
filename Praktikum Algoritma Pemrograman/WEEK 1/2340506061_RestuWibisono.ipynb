{
 "cells": [
  {
   "cell_type": "code",
   "execution_count": 1,
   "metadata": {},
   "outputs": [
    {
     "name": "stdout",
     "output_type": "stream",
     "text": [
      "Nama             : Restu Wibisono\n",
      "NPM              : 2340506061\n",
      "Alamat           : Tambakboyo RT 01 RW 03 Klepu, Pringsurat, Temanggung\n",
      "Tinggi Badan     : 171.5\n",
      "Berat Badan      : 58.3\n"
     ]
    }
   ],
   "source": [
    "# Week 1\n",
    "\n",
    "print('Nama             : Restu Wibisono')\n",
    "print('NPM              : 2340506061')\n",
    "print('Alamat           : Tambakboyo RT 01 RW 03 Klepu, Pringsurat, Temanggung')\n",
    "print('Tinggi Badan     : 171.5')\n",
    "print('Berat Badan      : 58.3')"
   ]
  },
  {
   "cell_type": "code",
   "execution_count": 1,
   "metadata": {},
   "outputs": [],
   "source": [
    "class style:\n",
    "    END = '\\x1B[0m'\n",
    "    BOLD = '\\x1B[1m'\n",
    "    ITALIC = '\\x1B[3m'"
   ]
  },
  {
   "cell_type": "code",
   "execution_count": 2,
   "metadata": {},
   "outputs": [
    {
     "name": "stdout",
     "output_type": "stream",
     "text": [
      "\u001b[1mUniversitas Tidar\u001b[0m\n",
      "Universitas Tidar merupakan Perguruan Tinggi Pemerintahan atau Perguruan Tinggi Negeri yang telah ditetapkan berdasarkan Peraturan Presiden Republik Indonesia Nomor 23 Tahun 2014 pada tanggal 1 April 2014\n",
      "\n",
      "\u001b[1mJurusan Teknik Elektro\u001b[0m\n",
      "Jurusan Teknik Elektro terdiriatas tiga program studi, antara lain:\n",
      "     1. S1 Teknik Elektro \u001b[3m(Bachelor ofEletrical Engeneering)\u001b[0m\n",
      "     2. S1 Teknologi Informasi \u001b[3m(Bachelor of Information Technology)\u001b[0m\n",
      "     3. S1 Teknik Mekatronika \u001b[3m(Bachelor of Mechatronic Engeneering)\u001b[0m\n"
     ]
    }
   ],
   "source": [
    "# Week 2\n",
    "\n",
    "\n",
    "print(style.BOLD + 'Universitas Tidar' + style.END)\n",
    "print('Universitas Tidar merupakan Perguruan Tinggi Pemerintahan atau Perguruan Tinggi Negeri yang telah ditetapkan berdasarkan Peraturan Presiden Republik Indonesia Nomor 23 Tahun 2014 pada tanggal 1 April 2014')\n",
    "print('')\n",
    "print(style.BOLD + 'Jurusan Teknik Elektro' + style.END)\n",
    "print('Jurusan Teknik Elektro terdiriatas tiga program studi, antara lain:')\n",
    "print('     1. S1 Teknik Elektro ' + style.ITALIC + '(Bachelor ofEletrical Engeneering)' + style.END)\n",
    "print('     2. S1 Teknologi Informasi ' + style.ITALIC + '(Bachelor of Information Technology)' + style.END)\n",
    "print('     3. S1 Teknik Mekatronika ' + style.ITALIC + '(Bachelor of Mechatronic Engeneering)' + style.END)"
   ]
  },
  {
   "cell_type": "code",
   "execution_count": 4,
   "metadata": {},
   "outputs": [],
   "source": [
    "class data:\n",
    "    nama = \"Restu Wibisono\"\n",
    "    npm = \"2340506061\"\n",
    "    alamat = \"Temanggung\"\n",
    "    tb = \"171.5\"\n",
    "    bb = \"58.3\"\n"
   ]
  },
  {
   "cell_type": "code",
   "execution_count": 7,
   "metadata": {},
   "outputs": [
    {
     "name": "stdout",
     "output_type": "stream",
     "text": [
      "Nama : Restu Wibisono\n"
     ]
    }
   ],
   "source": [
    "print(\"Nama :\", data.nama)"
   ]
  }
 ],
 "metadata": {
  "kernelspec": {
   "display_name": "Python 3",
   "language": "python",
   "name": "python3"
  },
  "language_info": {
   "codemirror_mode": {
    "name": "ipython",
    "version": 3
   },
   "file_extension": ".py",
   "mimetype": "text/x-python",
   "name": "python",
   "nbconvert_exporter": "python",
   "pygments_lexer": "ipython3",
   "version": "3.11.5"
  },
  "orig_nbformat": 4
 },
 "nbformat": 4,
 "nbformat_minor": 2
}
