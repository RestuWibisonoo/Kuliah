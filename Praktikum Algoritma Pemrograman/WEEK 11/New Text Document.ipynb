{
 "cells": [
  {
   "cell_type": "code",
   "execution_count": 2,
   "metadata": {},
   "outputs": [
    {
     "ename": "TypeError",
     "evalue": "luasLingkaran() missing 1 required positional argument: 'r'",
     "output_type": "error",
     "traceback": [
      "\u001b[1;31m---------------------------------------------------------------------------\u001b[0m",
      "\u001b[1;31mTypeError\u001b[0m                                 Traceback (most recent call last)",
      "\u001b[1;32mc:\\Penyimpanan Utama\\Dokumen\\Tugas\\Praktikum Algoritma Pemrograman\\WEEK 11\\New Text Document.ipynb Cell 1\u001b[0m line \u001b[0;36m5\n\u001b[0;32m      <a href='vscode-notebook-cell:/c%3A/Penyimpanan%20Utama/Dokumen/Tugas/Praktikum%20Algoritma%20Pemrograman/WEEK%2011/New%20Text%20Document.ipynb#W0sZmlsZQ%3D%3D?line=1'>2</a>\u001b[0m \u001b[39mimport\u001b[39;00m \u001b[39mmatematika\u001b[39;00m\n\u001b[0;32m      <a href='vscode-notebook-cell:/c%3A/Penyimpanan%20Utama/Dokumen/Tugas/Praktikum%20Algoritma%20Pemrograman/WEEK%2011/New%20Text%20Document.ipynb#W0sZmlsZQ%3D%3D?line=3'>4</a>\u001b[0m r \u001b[39m=\u001b[39m \u001b[39mfloat\u001b[39m(\u001b[39minput\u001b[39m(\u001b[39m\"\u001b[39m\u001b[39mJari jari\u001b[39m\u001b[39m\"\u001b[39m))\n\u001b[1;32m----> <a href='vscode-notebook-cell:/c%3A/Penyimpanan%20Utama/Dokumen/Tugas/Praktikum%20Algoritma%20Pemrograman/WEEK%2011/New%20Text%20Document.ipynb#W0sZmlsZQ%3D%3D?line=4'>5</a>\u001b[0m lingkaran \u001b[39m=\u001b[39m matematika\u001b[39m.\u001b[39;49mluasLingkaran(r)\n\u001b[0;32m      <a href='vscode-notebook-cell:/c%3A/Penyimpanan%20Utama/Dokumen/Tugas/Praktikum%20Algoritma%20Pemrograman/WEEK%2011/New%20Text%20Document.ipynb#W0sZmlsZQ%3D%3D?line=5'>6</a>\u001b[0m \u001b[39mprint\u001b[39m(lingkaran)\n\u001b[0;32m      <a href='vscode-notebook-cell:/c%3A/Penyimpanan%20Utama/Dokumen/Tugas/Praktikum%20Algoritma%20Pemrograman/WEEK%2011/New%20Text%20Document.ipynb#W0sZmlsZQ%3D%3D?line=7'>8</a>\u001b[0m sisi \u001b[39m=\u001b[39m \u001b[39mfloat\u001b[39m(\u001b[39minput\u001b[39m(\u001b[39m\"\u001b[39m\u001b[39mMasukkan sisi :\u001b[39m\u001b[39m\"\u001b[39m))\n",
      "\u001b[1;31mTypeError\u001b[0m: luasLingkaran() missing 1 required positional argument: 'r'"
     ]
    }
   ],
   "source": [
    "# Write your code below and press Shift+Enter to execute\n",
    "import matematika\n",
    "\n",
    "r = float(input(\"Jari jari\"))\n",
    "lingkaran = matematika.luasLingkaran(r)\n",
    "print(lingkaran)\n",
    "\n",
    "sisi = float(input(\"Masukkan sisi :\"))\n",
    "persegi = matematika.luasPersegi(sisi)\n",
    "print(persegi)\n",
    "\n",
    "p = float(input(\"Masukkan panjang :\"))\n",
    "l = float(input(\"Masukkan lebar :\"))\n",
    "PP = matematika.luasPP(p, l)\n",
    "print(PP)"
   ]
  }
 ],
 "metadata": {
  "kernelspec": {
   "display_name": "Python 3",
   "language": "python",
   "name": "python3"
  },
  "language_info": {
   "codemirror_mode": {
    "name": "ipython",
    "version": 3
   },
   "file_extension": ".py",
   "mimetype": "text/x-python",
   "name": "python",
   "nbconvert_exporter": "python",
   "pygments_lexer": "ipython3",
   "version": "3.11.6"
  }
 },
 "nbformat": 4,
 "nbformat_minor": 2
}
