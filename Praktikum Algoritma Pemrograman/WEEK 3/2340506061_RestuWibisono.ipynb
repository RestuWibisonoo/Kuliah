{
 "cells": [
  {
   "cell_type": "code",
   "execution_count": 7,
   "metadata": {},
   "outputs": [],
   "source": [
    "Biodata = \"C:/Penyimpanan Utama/Dokumen/Biodata.txt\"\n",
    "file1 = open(Biodata, \"r\")"
   ]
  },
  {
   "cell_type": "code",
   "execution_count": 8,
   "metadata": {},
   "outputs": [
    {
     "data": {
      "text/plain": [
       "'C:/Penyimpanan Utama/Dokumen/Biodata.txt'"
      ]
     },
     "execution_count": 8,
     "metadata": {},
     "output_type": "execute_result"
    }
   ],
   "source": [
    "file1.name"
   ]
  },
  {
   "cell_type": "code",
   "execution_count": 9,
   "metadata": {},
   "outputs": [
    {
     "data": {
      "text/plain": [
       "'r'"
      ]
     },
     "execution_count": 9,
     "metadata": {},
     "output_type": "execute_result"
    }
   ],
   "source": [
    "file1.mode"
   ]
  },
  {
   "cell_type": "code",
   "execution_count": 10,
   "metadata": {},
   "outputs": [
    {
     "data": {
      "text/plain": [
       "'Nama : Restu Wibisono\\nProgram Studi : S1 Teknologi Infomasi\\nNPM : 2340506061\\nAlamat : Tambakboyo 01/03 Klepu, Pringsurat, Temanggung\\nHobi : Yang saya suka\\nEmail : restu1909wibisono@gmail.com'"
      ]
     },
     "execution_count": 10,
     "metadata": {},
     "output_type": "execute_result"
    }
   ],
   "source": [
    "FileContent = file1.read()\n",
    "FileContent"
   ]
  },
  {
   "cell_type": "code",
   "execution_count": 11,
   "metadata": {},
   "outputs": [
    {
     "name": "stdout",
     "output_type": "stream",
     "text": [
      "Nama : Restu Wibisono\n",
      "Program Studi : S1 Teknologi Infomasi\n",
      "NPM : 2340506061\n",
      "Alamat : Tambakboyo 01/03 Klepu, Pringsurat, Temanggung\n",
      "Hobi : Yang saya suka\n",
      "Email : restu1909wibisono@gmail.com\n"
     ]
    }
   ],
   "source": [
    "print(FileContent)"
   ]
  },
  {
   "cell_type": "code",
   "execution_count": null,
   "metadata": {},
   "outputs": [
    {
     "name": "stdout",
     "output_type": "stream",
     "text": [
      "Nama : Restu Wibisono\n",
      "\n",
      "Program Studi : S1 Teknologi Infomasi\n",
      "\n",
      "NPM : 2340506061\n",
      "\n",
      "Alamat : Tambakboyo 01/03 Klepu, Pringsurat, Temanggung\n"
     ]
    }
   ],
   "source": [
    "with open(Biodata, \"r\")as file1:\n",
    "    print(file1.read(22))\n",
    "    print(file1.read(37))\n",
    "    print(file1.read(18))\n",
    "    print(file1.read(55))"
   ]
  },
  {
   "cell_type": "code",
   "execution_count": null,
   "metadata": {},
   "outputs": [
    {
     "name": "stdout",
     "output_type": "stream",
     "text": [
      "Nama : Restu Wibisono\n",
      "Program Studi : S1 Teknologi Infomasi\n",
      "NPM : 2340506061\n",
      "Alamat : Tambakboyo 01/03 Klepu, Pringsurat, Temanggung\n",
      "Hobi : Yang saya suka\n",
      "Email : restu1909wibisono@gmail.com\n"
     ]
    }
   ],
   "source": [
    "with open (Biodata, \"r\") as file1:\n",
    "    FileContent = file1.read()\n",
    "\n",
    "print(FileContent)"
   ]
  },
  {
   "cell_type": "code",
   "execution_count": 12,
   "metadata": {},
   "outputs": [
    {
     "name": "stdout",
     "output_type": "stream",
     "text": [
      "Nama : Restu Wibisono\n",
      "\n",
      "Program Studi : S1 Teknologi Infomasi\n",
      "\n",
      "Email : restu1909wibisono@gmail.com\n"
     ]
    }
   ],
   "source": [
    "with open(Biodata, \"r\") as file1:\n",
    "    FileasList = file1.readlines()\n",
    "    print(FileasList[0])\n",
    "    print(FileasList[1])\n",
    "    print(FileasList[5])"
   ]
  },
  {
   "cell_type": "code",
   "execution_count": null,
   "metadata": {},
   "outputs": [
    {
     "name": "stderr",
     "output_type": "stream",
     "text": [
      "The syntax of the command is incorrect.\n"
     ]
    }
   ],
   "source": [
    "!mkdir -p \"/Penyimpanan Utama/Dokumen/Tugas/Praktikum Algoritma Pemrograman/WEEK 3\""
   ]
  },
  {
   "cell_type": "code",
   "execution_count": 16,
   "metadata": {},
   "outputs": [],
   "source": [
    "with open (\"C:/Penyimpanan Utama/Dokumen/Tugas/Praktikum Algoritma Pemrograman/WEEK 3/Biodata2.txt\", \"w\") as writefile:\n",
    "    writefile.write(FileasList[0])\n",
    "    writefile.write(\" \\n\")\n",
    "    writefile.write(FileasList[1])\n",
    "    writefile.write(\" \\n\")\n",
    "    writefile.write(FileasList[5])\n",
    "    writefile.write(\" \\n\")"
   ]
  },
  {
   "cell_type": "code",
   "execution_count": null,
   "metadata": {},
   "outputs": [
    {
     "name": "stdout",
     "output_type": "stream",
     "text": [
      "Selamat datang di Toko Maju Jaya\n",
      "Senin, 4 September 2023 13.05\n",
      " \n",
      "DAFTAR BELANJA:\n",
      "Sabun = Rp 10000\n",
      "Shampo = Rp 15000\n",
      "Mie instant = Rp 5000\n",
      "Detergen = Rp 17500\n",
      " \n",
      "Total = Rp 47500\n"
     ]
    }
   ],
   "source": [
    "print(\"Selamat datang di Toko Maju Jaya\")\n",
    "print(\"Senin, 4 September 2023 13.05\")\n",
    "print(\" \")\n",
    "\n",
    "print(\"DAFTAR BELANJA:\")\n",
    "item1 = \"Sabun\"\n",
    "item2 = \"Shampo\"\n",
    "item3 = \"Mie instant\"\n",
    "item4 = \"Detergen\"\n",
    "harga1 = 10000\n",
    "harga2 = 15000\n",
    "harga3 = 5000\n",
    "harga4 = 17500\n",
    "\n",
    "total = harga1+harga2+harga3+harga4\n",
    "\n",
    "print(item1, \"= Rp\", harga1)\n",
    "print(item2, \"= Rp\", harga2)\n",
    "print(item3, \"= Rp\", harga3)\n",
    "print(item4, \"= Rp\", harga4)\n",
    "\n",
    "print(\" \")\n",
    "print(\"Total = Rp\", total)\n",
    "\n",
    "with open(\"Kuitansi.txt\", \"w\") as writefile:\n",
    "        writefile.write(\"Selamat Datang di Toko Maju Jaya\\n\")\n",
    "        writefile.write(\" \\n\")\n",
    "        writefile.write(\"Kuitansi - 4 Septermber 2023\\n\")\n",
    "        writefile.write(\" \\n\")\n",
    "        writefile.write(item1+ \"= Rp\" \"{}\".format(harga1))\n",
    "        writefile.write(\" \\n\")\n",
    "        writefile.write(item2+ \"= Rp\" \"{}\".format(harga2))\n",
    "        writefile.write(\" \\n\")\n",
    "        writefile.write(item3+ \"= Rp\" \"{}\".format(harga3))\n",
    "        writefile.write(\" \\n\")\n",
    "        writefile.write(item4+ \"= Rp\" \"{}\".format(harga4))\n",
    "        writefile.write(\" \\n\")\n",
    "        writefile.write(\"Total Belanja =\" \"{}\".format(total))"
   ]
  }
 ],
 "metadata": {
  "kernelspec": {
   "display_name": "Python 3",
   "language": "python",
   "name": "python3"
  },
  "language_info": {
   "codemirror_mode": {
    "name": "ipython",
    "version": 3
   },
   "file_extension": ".py",
   "mimetype": "text/x-python",
   "name": "python",
   "nbconvert_exporter": "python",
   "pygments_lexer": "ipython3",
   "version": "3.11.5"
  },
  "orig_nbformat": 4
 },
 "nbformat": 4,
 "nbformat_minor": 2
}
