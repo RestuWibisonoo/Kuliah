{
 "cells": [
  {
   "cell_type": "code",
   "execution_count": 8,
   "metadata": {},
   "outputs": [
    {
     "name": "stdout",
     "output_type": "stream",
     "text": [
      "Bukan Tahun Kabisat\n"
     ]
    }
   ],
   "source": [
    "# Weekly Exercise 1\n",
    "tahun = int(input(\"Masukkan tahun\"))\n",
    "\n",
    "if tahun % 4 == 0:\n",
    "    if tahun % 100 == 0:\n",
    "        if tahun % 400 == 0:\n",
    "            print(\"Tahun Kabisat\")\n",
    "        else:\n",
    "            print(\"Bukan Tahun Kabisat\")\n",
    "    else:\n",
    "        print(\"Tahun Kabisat\")\n",
    "else:\n",
    "    print(\"Bukan Tahun Kabisat\")"
   ]
  },
  {
   "cell_type": "code",
   "execution_count": 14,
   "metadata": {},
   "outputs": [
    {
     "name": "stdout",
     "output_type": "stream",
     "text": [
      "654 236 872 dan angka yang paling besar adalah 872\n"
     ]
    }
   ],
   "source": [
    "# Weekly Exercise 2\n",
    "\n",
    "a1 = int(input(\"Masukkan angka\"))\n",
    "a2 = int(input(\"Masukkan angka\"))\n",
    "a3 = int(input(\"Masukkan angka\"))\n",
    "\n",
    "if a1 > a2 and a1 >  a3:\n",
    "    i = a1\n",
    "elif a2 > a3 and a2 > a1:\n",
    "    i = a2\n",
    "else:\n",
    "    i = a3\n",
    "\n",
    "print(a1, a2, a3, \"dan angka yang paling besar adalah\", i)"
   ]
  },
  {
   "cell_type": "code",
   "execution_count": 9,
   "metadata": {},
   "outputs": [
    {
     "name": "stdout",
     "output_type": "stream",
     "text": [
      "Total harga yang harus kamu bayar : 97000.0\n"
     ]
    }
   ],
   "source": [
    "# Weekly Exercise 3\n",
    "belanja = float(input(\"Harga\"))\n",
    "\n",
    "b1 = 100000\n",
    "b2 = 200000\n",
    "\n",
    "if belanja >= 100000:\n",
    "    is_member = str(input(\"Apakah anda punya member? isi 'ya' atau 'tidak': \"))\n",
    "    if is_member == 'ya':\n",
    "        member = True\n",
    "    elif is_member == 'tidak':\n",
    "        member = False\n",
    "    else:\n",
    "        print('isi member ya atau tidak')\n",
    "\n",
    "    if is_member == True:\n",
    "        if belanja >= b1:\n",
    "                diskon = 5/100\n",
    "        elif belanja >= b2:\n",
    "                diskon = 6/100\n",
    "    else:\n",
    "        if belanja >= b1:\n",
    "            diskon = 3/100\n",
    "        elif belanja >= b2:\n",
    "                diskon = 4/100\n",
    "    print(\"Total harga yang harus kamu bayar :\", belanja - belanja * diskon)\n",
    "else:\n",
    "    print(\"Total harga yang harus kamu bayar : Rp\", belanja)\n",
    "\n"
   ]
  },
  {
   "cell_type": "code",
   "execution_count": 2,
   "metadata": {},
   "outputs": [
    {
     "name": "stdout",
     "output_type": "stream",
     "text": [
      "Akun anda:\n",
      "Restu Wibisono\n",
      "restuwibisono@gmail.com\n",
      "RestuGanteng\n"
     ]
    }
   ],
   "source": [
    "# Weekly Exercise 4\n",
    "\n",
    "user = str(input(\"Masukkan username\"))\n",
    "email = str(input (\"Masukkan email\"))\n",
    "pw = str(input(\"Masukkan password\"))\n",
    "if user == \"\":\n",
    "    print(\"Username tidak boleh kosong\")\n",
    "else:\n",
    "    if email.find('@') == -1:\n",
    "        print(\"Email harus menyertakan '@\")\n",
    "    else:\n",
    "        if len(pw) < 8:\n",
    "            print(\"Password minimal 8 karakter\")\n",
    "        else:\n",
    "            print(\"Akun anda:\")\n",
    "            print(user)\n",
    "            print(email)\n",
    "            print(pw)"
   ]
  }
 ],
 "metadata": {
  "kernelspec": {
   "display_name": "Python 3",
   "language": "python",
   "name": "python3"
  },
  "language_info": {
   "codemirror_mode": {
    "name": "ipython",
    "version": 3
   },
   "file_extension": ".py",
   "mimetype": "text/x-python",
   "name": "python",
   "nbconvert_exporter": "python",
   "pygments_lexer": "ipython3",
   "version": "3.11.5"
  },
  "orig_nbformat": 4
 },
 "nbformat": 4,
 "nbformat_minor": 2
}
