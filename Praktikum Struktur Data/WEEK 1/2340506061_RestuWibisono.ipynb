{
 "cells": [
  {
   "cell_type": "code",
   "execution_count": 1,
   "metadata": {},
   "outputs": [
    {
     "name": "stdout",
     "output_type": "stream",
     "text": [
      "Bismillah iso : 12345\n",
      "\n",
      "Bismillah iso meneh :  1.2 2.5 3.2 3.3 "
     ]
    }
   ],
   "source": [
    "import array as ani\n",
    "a = ani.array('i', [1,2,3,4,5])\n",
    "print(\"Bismillah iso : \", end=\"\")\n",
    "for i in range(0, 5):\n",
    "    print(a[i], end=\"\")\n",
    "print()\n",
    "b = ani.array('d', [1.2, 2.5, 3.2, 3.3])\n",
    "print(\"\\nBismillah iso meneh : \", end=\" \")\n",
    "for i in range(0,4):\n",
    "    print(b[i], end=\" \")"
   ]
  }
 ],
 "metadata": {
  "kernelspec": {
   "display_name": "Python 3",
   "language": "python",
   "name": "python3"
  },
  "language_info": {
   "codemirror_mode": {
    "name": "ipython",
    "version": 3
   },
   "file_extension": ".py",
   "mimetype": "text/x-python",
   "name": "python",
   "nbconvert_exporter": "python",
   "pygments_lexer": "ipython3",
   "version": "3.11.8"
  }
 },
 "nbformat": 4,
 "nbformat_minor": 2
}
