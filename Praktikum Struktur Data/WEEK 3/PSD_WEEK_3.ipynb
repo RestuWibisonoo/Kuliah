{
  "nbformat": 4,
  "nbformat_minor": 0,
  "metadata": {
    "colab": {
      "provenance": []
    },
    "kernelspec": {
      "name": "python3",
      "display_name": "Python 3"
    },
    "language_info": {
      "name": "python"
    }
  },
  "cells": [
    {
      "cell_type": "code",
      "execution_count": 1,
      "metadata": {
        "colab": {
          "base_uri": "https://localhost:8080/"
        },
        "id": "xuqpl8vYX8r2",
        "outputId": "eb4f5f04-118a-4440-df68-0f644fdec2f0"
      },
      "outputs": [
        {
          "output_type": "stream",
          "name": "stdout",
          "text": [
            "initial stack\n",
            "['a', 'i', 'u', 'e', 'o']\n",
            "\n",
            "Elements poped form stack:\n",
            "o\n",
            "e\n",
            "u\n",
            "\n",
            "Stack arter elements are poped:\n",
            "['a', 'i']\n"
          ]
        }
      ],
      "source": [
        "#Stack dengan List\n",
        "\n",
        "# Python program to demonstrate stack implementation using list\n",
        "stack = []\n",
        "\n",
        "# append90 function to push element in the stack\n",
        "stack.append('a')\n",
        "stack.append('i')\n",
        "stack.append('u')\n",
        "stack.append('e')\n",
        "stack.append('o')\n",
        "\n",
        "print('initial stack')\n",
        "print(stack)\n",
        "\n",
        "# pop() function to pop element form stack in LIFO order\n",
        "print('\\nElements poped form stack:')\n",
        "print(stack.pop())\n",
        "print(stack.pop())\n",
        "print(stack.pop())\n",
        "\n",
        "print('\\nStack arter elements are poped:')\n",
        "print(stack)\n",
        "\n",
        "#uncomenting print(stack.pop()) will cause an IndexEror as the stack is now empty"
      ]
    },
    {
      "cell_type": "code",
      "source": [
        "# Stack dengan Collections.deque\n",
        "\n",
        "# Python program to demonstrate stack implementation using collection.deque\n",
        "form collections import deque\n",
        "\n",
        "stack = deque()\n",
        "\n",
        "# append90 function to push element in the stack\n",
        "stack.append('a')\n",
        "stack.append('i')\n",
        "stack.append('u')\n",
        "stack.append('e')\n",
        "stack.append('o')\n",
        "\n",
        "print('initial stack')\n",
        "print(stack)\n",
        "\n",
        "# pop() function to pop element form stack in LIFO order\n",
        "print('\\nElements poped form stack:')\n",
        "print(stack.pop())\n",
        "print(stack.pop())\n",
        "print(stack.pop())\n",
        "\n",
        "print('\\nStack arter elements are poped:')\n",
        "print(stack)\n",
        "\n",
        "#uncomenting print(stack.pop()) will cause an IndexEror as the stack is now empty"
      ],
      "metadata": {
        "id": "jiDuiNLgamPs"
      },
      "execution_count": null,
      "outputs": []
    },
    {
      "cell_type": "code",
      "source": [
        "# Stack dengan queue.LifoQueue\n",
        "\n",
        "# Python program to demonstrate stack implementation using queue module\n",
        "form queue import LifoQueue\n",
        "\n",
        "# Initializing a stack\n",
        "stack = LifoQueue(maxsize=5)\n",
        "\n",
        "# qsize()show the number of elements in the stack\n",
        "print(stack.qsu)"
      ],
      "metadata": {
        "id": "n_trtkwPbMm7"
      },
      "execution_count": null,
      "outputs": []
    }
  ]
}