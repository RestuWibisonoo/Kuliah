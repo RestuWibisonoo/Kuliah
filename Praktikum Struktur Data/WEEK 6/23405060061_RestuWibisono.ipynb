{
 "cells": [
  {
   "cell_type": "code",
   "execution_count": 6,
   "metadata": {},
   "outputs": [
    {
     "name": "stdout",
     "output_type": "stream",
     "text": [
      "Array sebelum diurutkan:  [64, 34, 25, 12, 22, 11, 90]\n",
      "Array setelah diurutkan:  [11, 12, 22, 25, 34, 64, 90]\n"
     ]
    }
   ],
   "source": [
    "# Bubble Sort\n",
    "\n",
    "def bubble_sort(arr):\n",
    "    n = len(arr)\n",
    "\n",
    "    for i in range(n):\n",
    "        # Buat tanda yang memungkinkan fungsi dihentikan lebih awal jika tidak ada lagi yang perlu disortir\n",
    "        already_sorted = True\n",
    "\n",
    "        # Mulalilah melihat setiap item dalam daftar saru per satu, bandingkan dengan nilai yang berdekatan\n",
    "        for j in range(n - i - 1):\n",
    "            if arr[j] > arr[j + 1]:\n",
    "                # Jika item saat ini lebih besar dari item berikutnya, tukar posisi mereka\n",
    "                arr[j], arr[j + 1] = arr[j + 1], arr[j]\n",
    "                # Karena Anda harus menukar dua elemen, setel tanda 'already_sorted' ke 'False', akar algoritma tidak selesai sebelum waktunya\n",
    "                already_sorted = False\n",
    "\n",
    "        # Jika tidak ada swap selama iterasi terakhir, array sudah diurutkan, dan Anda dapat mengakhirinya\n",
    "        if already_sorted:\n",
    "            break\n",
    "\n",
    "    return arr\n",
    "\n",
    "# Contoh penggunaan\n",
    "arr = [64, 34, 25, 12, 22, 11, 90]\n",
    "\n",
    "print(\"Array sebelum diurutkan: \", arr)\n",
    "bubble_sort(arr)\n",
    "print(\"Array setelah diurutkan: \", arr)\n",
    "                "
   ]
  },
  {
   "cell_type": "code",
   "execution_count": 1,
   "metadata": {},
   "outputs": [
    {
     "name": "stdout",
     "output_type": "stream",
     "text": [
      "Array sebelum diurutkan:  [64, 34, 25, 12, 22, 11, 90]\n",
      "Array setelah diurutkan:  [11, 12, 22, 25, 34, 64, 90]\n"
     ]
    }
   ],
   "source": [
    "# Insertion Sort\n",
    "\n",
    "def insertion_sort(arr):\n",
    "    # Ulangi dari elemen kedua array hingga elemen terakhir\n",
    "    for i in range(1, len(arr)):\n",
    "        # Ini adalah elemen yang ingin kita posisikan pada tempat yang benar\n",
    "        key_item = arr[i]\n",
    "\n",
    "        # Inisialisasi variabel yang akan digunakan untuk menemukan posisi yang benar fari elemen yang direfresinkan oleh 'key_item'\n",
    "        j = i - 1\n",
    "\n",
    "        # Jalankan daftar item (bagian kiri array) dan tentukan posisi yang benar dari elemen yang direfresinkan oleh 'key_item' Lakukan ini hanya jika 'key_item' lebih kecil dari nilai di dekatnya\n",
    "        while j >= 0 and arr[j] > key_item:\n",
    "            # Geser nilai satu posisi ke kiri dan ubah posisi j untuk menunjuk ke elemen berikutnya (dari kanan ke kiri)\n",
    "            arr[j + 1] = arr[j]\n",
    "            j -= 1\n",
    "\n",
    "        # Setelah selesai menggeser elemen, Anda dapat memposisikan 'key_item' di lokasi yang benar\n",
    "        arr[j + 1] = key_item\n",
    "\n",
    "    return arr\n",
    "\n",
    "# Contoh penggunaan\n",
    "arr = [64, 34, 25, 12, 22, 11, 90]\n",
    "print(\"Array sebelum diurutkan: \", arr)\n",
    "insertion_sort(arr)\n",
    "print(\"Array setelah diurutkan: \", arr)               "
   ]
  },
  {
   "cell_type": "code",
   "execution_count": 3,
   "metadata": {},
   "outputs": [
    {
     "name": "stdout",
     "output_type": "stream",
     "text": [
      "Array sebelum pengurutan: [64, 34, 25, 12, 22, 11, 90]\n",
      "Array setelah pengurutan: [11, 12, 22, 25, 34, 64, 90]\n"
     ]
    }
   ],
   "source": [
    "# Merge Sort\n",
    "\n",
    "def merge(left, right):\n",
    "\n",
    "    # Jika array pertama kosong, maka tidak ada yang perlu digabungkan, dan Anda dapat mengembalikan array kedua sebagai hasilnya\n",
    "    if len(left) == 0:\n",
    "        return right\n",
    "\n",
    "    # Jika array kedua kosong, maka tidak ada yang perlu digabungkan, dan Anda dapat mengembalikan array pertama sebagai hasilnya\n",
    "    if len(right) == 0:\n",
    "        return left\n",
    "    \n",
    "    result = []\n",
    "    index_left = index_right = 0\n",
    "    # Sekarang telusuri kedua array hingga semua elemen berhasil masuk ke dalam array yang dihasilkan\n",
    "    while len(result) < len(left) + len(right):\n",
    "        # Elemen perlu diurutkan untuk menambahkannya ke array yang dihasilkan, jadi Anda perlu memutuskan apakah akan mendapatkan elemen berikutnya dari array pertama atau kedua\n",
    "        if left[index_left] <= right[index_right]:\n",
    "            result.append(left[index_left])\n",
    "            index_left += 1\n",
    "        else:\n",
    "            result.append(right[index_right])\n",
    "            index_right += 1\n",
    "        # Jika Anda mencapai akhir dari salah satu array, maka Anda dapat menambahkan elemen yang tersisa dari array lain ke hasil dan memutus perulangan\n",
    "        if index_right == len(right): \n",
    "            result.extend(left[index_left:])\n",
    "            break\n",
    "        if index_left == len(left): \n",
    "            result.extend(right[index_right:])\n",
    "            break\n",
    "    return result\n",
    "\n",
    "def merge_sort(array):\n",
    "    # Jika array masukan berisi kurang dari dua elemen, kembalikan sebagai hasil fungsinya\n",
    "    if len(array) < 2: \n",
    "        return array\n",
    "    midpoint = len(array) // 2\n",
    "    # Urutkan array dengan membagi input secara rekursif menjadi dua bagian yang sama, mengurutkan masing-masing bagian dan menggabungkannya menjadi hasil akhir\n",
    "    return merge(\n",
    "    merge_sort(array[:midpoint]),\n",
    "    merge_sort(array[midpoint:]))\n",
    "\n",
    "# Contoh penggunaan\n",
    "arr = [64, 34, 25, 12, 22, 11, 90] \n",
    "print(\"Array sebelum pengurutan:\", arr)\n",
    "arr = merge_sort(arr)\n",
    "print(\"Array setelah pengurutan:\", arr)"
   ]
  },
  {
   "cell_type": "code",
   "execution_count": 4,
   "metadata": {},
   "outputs": [
    {
     "name": "stdout",
     "output_type": "stream",
     "text": [
      "Sorted array: [11, 12, 22, 25, 34, 64, 90]\n"
     ]
    }
   ],
   "source": [
    "# Latihan Soal\n",
    "\n",
    "def quicksort(arr):\n",
    "    if len(arr) <= 1:\n",
    "        return arr\n",
    "    else:\n",
    "        pivot = arr[-1]\n",
    "        smaller = [x for x in arr[:-1] if x <= pivot]\n",
    "        greater = [x for x in arr[:-1] if x > pivot]\n",
    "        return quicksort(smaller) + [pivot] + quicksort(greater)\n",
    "\n",
    "arr = [64, 34, 25, 12, 22, 11, 90]\n",
    "sorted_arr = quicksort(arr)\n",
    "print(\"Sorted array:\", sorted_arr)\n"
   ]
  },
  {
   "cell_type": "code",
   "execution_count": 1,
   "metadata": {},
   "outputs": [
    {
     "name": "stdout",
     "output_type": "stream",
     "text": [
      "Array sebelum pengurutan: [64, 34, 25, 12, 22, 11, 90]\n",
      "Array setelah pengurutan: [11, 12, 22, 25, 34, 64, 90]\n"
     ]
    }
   ],
   "source": [
    "# Latihan Soal\n",
    "\n",
    "def partition(array, low, high):\n",
    "    pivot = array[high]\n",
    "    i = low - 1\n",
    "    for j in range(low, high):\n",
    "        if array[j] <= pivot:\n",
    "            i = i + 1\n",
    "            array[i], array[j] = array[j], array[i]\n",
    "\n",
    "    array[i + 1], array[high] = array[high], array[i + 1]\n",
    "    return i + 1\n",
    "def quick_sort(array, low, high):\n",
    "    if low < high:\n",
    "        pi = partition(array, low, high)\n",
    "        quick_sort(array, low, pi - 1)\n",
    "        quick_sort(array, pi + 1, high)\n",
    "arr = [64, 34, 25, 12, 22, 11, 90]\n",
    "n = len(arr)\n",
    "print(\"Array sebelum pengurutan:\", arr)\n",
    "quick_sort(arr, 0, n - 1)\n",
    "print(\"Array setelah pengurutan:\", arr)"
   ]
  }
 ],
 "metadata": {
  "kernelspec": {
   "display_name": "Python 3",
   "language": "python",
   "name": "python3"
  },
  "language_info": {
   "codemirror_mode": {
    "name": "ipython",
    "version": 3
   },
   "file_extension": ".py",
   "mimetype": "text/x-python",
   "name": "python",
   "nbconvert_exporter": "python",
   "pygments_lexer": "ipython3",
   "version": "3.11.8"
  }
 },
 "nbformat": 4,
 "nbformat_minor": 2
}
