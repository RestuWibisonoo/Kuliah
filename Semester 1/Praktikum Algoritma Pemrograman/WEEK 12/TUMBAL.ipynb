{
 "cells": [
  {
   "cell_type": "markdown",
   "metadata": {},
   "source": [
    "## <h3 id=\"WeeklyExercise1\">Weekly Exercise 1</h3>\n",
    "Pada program perhitungan bangun datar tugas sebelumnya, berikan <i>Exception Handling</i> :\n",
    "<li>Jika user lupa memasukkan nilai atau kosong maka akan muncul keterangan \"tidak boleh kosong\"</li>\n",
    "<li>Jika karakter yang diinputkan user bukan integer maka akan muncul error \"hanya boleh memasukkan angka\"</li>"
   ]
  },
  {
   "cell_type": "code",
   "execution_count": null,
   "metadata": {},
   "outputs": [],
   "source": [
    "import matematika as mtk\n",
    "\n",
    "selesai = False\n",
    "while not selesai:\n",
    "    try:\n",
    "        pilih = input(\"Bangun datar apa yang ingin dihitung (lingkaran, persegi, segitiga): \")\n",
    "        if pilih == 'lingkaran':\n",
    "            r = input(\"Masukkan jari-jari: \")\n",
    "            if r == \"\":\n",
    "                raise ValueError(\"Tidak boleh kosong\")\n",
    "            try:\n",
    "                r = int(r)\n",
    "            except ValueError:\n",
    "                raise ValueError(\"Hanya boleh masukkan angka\")\n",
    "            \n",
    "            lingkaran = mtk.lingkaran(r)\n",
    "            print(\"Luas lingkaran dengan jari-jari\", r, \"adalah\", lingkaran)\n",
    "        elif pilih == 'persegi':\n",
    "            s = input(\"Masukkan panjang sisi: \")\n",
    "            if s == \"\":\n",
    "                raise ValueError(\"Tidak boleh kosong\")\n",
    "            try:\n",
    "                s = int(s)\n",
    "            except ValueError:\n",
    "                raise ValueError(\"Hanya boleh masukkan angka\")\n",
    "            \n",
    "            persegi = mtk.persegi(s)\n",
    "            print(\"Luas persegi dengan panjang sisi\", s, \"adalah\", persegi)\n",
    "        elif pilih == 'segitiga':\n",
    "            a = input(\"Masukkan lebar alas: \")\n",
    "            t = input(\"Masukkan tinggi: \")\n",
    "            if a == \"\" or t == \"\":\n",
    "                raise ValueError(\"Tidak boleh kosong\")\n",
    "            try:\n",
    "                a = int(a)\n",
    "                t = int(t)\n",
    "            except ValueError:\n",
    "                raise ValueError(\"Hanya boleh masukkan angka\")\n",
    "            \n",
    "            segitiga = mtk.segitiga(a, t)\n",
    "            print(\"Luas segitiga dengan alas\", a, \"dan tinggi\", t, \"adalah\", segitiga)\n",
    "        else:\n",
    "            print(\"Pilihlah lingkaran, persegi, segitiga\")\n",
    "        selesai = input(\"selesai\") == 'selesai'\n",
    "    except ValueError as e:\n",
    "        print(e)\n",
    "    except:\n",
    "        print(\"Terjadi kesalahan\")\n"
   ]
  },
  {
   "cell_type": "code",
   "execution_count": 8,
   "metadata": {},
   "outputs": [
    {
     "name": "stdout",
     "output_type": "stream",
     "text": [
      "tidak boleh kosong\n"
     ]
    }
   ],
   "source": [
    "import math\n",
    "math.pi\n",
    "phi = math.pi\n",
    "\n",
    "def lingkaran(r):\n",
    "    return phi * (r * r)\n",
    "\n",
    "def persegi():\n",
    "    luas_p = s * s\n",
    "    return luas_p\n",
    "        \n",
    "\n",
    "\n",
    "\n",
    "\n",
    "try:\n",
    "    r = int(input(\"masukan jari jari: \"))\n",
    "    if r > 0 or '' :\n",
    "        luasLingkaran = lingkaran()\n",
    "        print(\"Luas Lingkaran adalah:\", luasLingkaran)\n",
    "        \n",
    "    s = int(input(\"masukan sisi :\"))\n",
    "    if s > 0 or '' :\n",
    "        print(\"Luas Lingkaran adalah:\", luasPersegi)\n",
    "    \n",
    "except:\n",
    "    print(\"tidak boleh kosong\")"
   ]
  },
  {
   "cell_type": "markdown",
   "metadata": {},
   "source": [
    "## <h3 id=\"WeeklyExercise1\">Weekly Exercise 2</h3>\n",
    "Pada program yang anda buat saat UTS berikan <i>Exception Handling</i> lalu kumpulkan file di elita!"
   ]
  }
 ],
 "metadata": {
  "kernelspec": {
   "display_name": "Python 3",
   "language": "python",
   "name": "python3"
  },
  "language_info": {
   "codemirror_mode": {
    "name": "ipython",
    "version": 3
   },
   "file_extension": ".py",
   "mimetype": "text/x-python",
   "name": "python",
   "nbconvert_exporter": "python",
   "pygments_lexer": "ipython3",
   "version": "3.11.0"
  }
 },
 "nbformat": 4,
 "nbformat_minor": 2
}
