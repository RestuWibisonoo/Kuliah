{
 "cells": [
  {
   "cell_type": "code",
   "execution_count": null,
   "metadata": {},
   "outputs": [],
   "source": [
    "\n",
    "\"Nama : Restu Wibisono\"\n",
    "\"Kelas : Rombel 3\"\n",
    "\"Tanggal Lahir : 19 September 2004\"\n",
    "\"no hp : +6285156476828\"\n",
    "\"alamat : Tambakboyo 01/03 Klepu, Pringsurat, Temanggung 56272\"\n",
    "\"Hobi :\" \"Duduk\", \"Selimutan\""
   ]
  },
  {
   "cell_type": "code",
   "execution_count": 19,
   "metadata": {},
   "outputs": [
    {
     "name": "stdout",
     "output_type": "stream",
     "text": [
      "Nama: Restu Wibisono\n",
      "Kelas: Rombel 3\n",
      "Tanggal Lahir: 19 September 2004\n",
      "no hp: +6285156476828\n",
      "alamat: Tambakboyo 01/03 Klepu, Pringsurat, Temanggung 56272\n",
      "Hobi:\n",
      "- Duduk\n",
      "- Selimutan\n",
      "- Bermalas-malasan\n",
      "- Rebahan\n"
     ]
    }
   ],
   "source": [
    "mahasiswa = [\n",
    "    {\n",
    "        \"Nama\" : \"Restu Wibisono\",\n",
    "        \"Kelas\" : \"Rombel 3\",\n",
    "        \"Tanggal Lahir\" : \"19 September 2004\",\n",
    "        \"no hp\" : \"+6285156476828\",\n",
    "        \"alamat\" : \"Tambakboyo 01/03 Klepu, Pringsurat, Temanggung 56272\",\n",
    "        \"Hobi\" : [\"Duduk\", \"Selimutan\", \"Bermalas-malasan\", \"Rebahan\"]\n",
    "    }\n",
    "]\n",
    "for pelajar in mahasiswa:\n",
    "    print(\"Nama:\", pelajar[\"Nama\"])\n",
    "    print(\"Kelas:\", pelajar[\"Kelas\"])\n",
    "    print(\"Tanggal Lahir:\", pelajar[\"Tanggal Lahir\"])\n",
    "    print(\"no hp:\", pelajar[\"no hp\"])\n",
    "    print(\"alamat:\", pelajar[\"alamat\"])\n",
    "    print(\"Hobi:\")\n",
    "    for hobi in pelajar[\"Hobi\"]:\n",
    "        print('-', hobi)"
   ]
  },
  {
   "cell_type": "code",
   "execution_count": 1,
   "metadata": {},
   "outputs": [
    {
     "name": "stdout",
     "output_type": "stream",
     "text": [
      "Duduk\n",
      "Selimutan\n",
      "Rebahan\n"
     ]
    }
   ],
   "source": [
    "thislist = [\"Duduk\", \"Selimutan\", \"Rebahan\"]\n",
    "for x in thislist:\n",
    "  print(x)"
   ]
  },
  {
   "cell_type": "code",
   "execution_count": 48,
   "metadata": {},
   "outputs": [
    {
     "name": "stdout",
     "output_type": "stream",
     "text": [
      "Angka yang dimasukkan (terurut): [2, 4, 5, 6, 7]\n"
     ]
    }
   ],
   "source": [
    "angka_list = []\n",
    "\n",
    "for i in range(5):\n",
    "    angka = int(input(\"Masukkan angka: \"))\n",
    "    angka_list.append(angka)\n",
    "\n",
    "angka_list.sort()\n",
    "\n",
    "print(\"Angka yang dimasukkan (terurut):\", angka_list)"
   ]
  },
  {
   "cell_type": "code",
   "execution_count": 54,
   "metadata": {},
   "outputs": [
    {
     "name": "stdout",
     "output_type": "stream",
     "text": [
      "('apple', 'banana', 'cherry', 'orange', 'strawberry')\n"
     ]
    }
   ],
   "source": [
    "#Create a new tuple with the value \"orange\", and add that tuple:\n",
    "thistuple = (\"apple\", \"banana\", \"cherry\")\n",
    "y = (\"orange\",\"strawberry\")\n",
    "thistuple += y\n",
    "\n",
    "print(thistuple)"
   ]
  },
  {
   "cell_type": "code",
   "execution_count": 3,
   "metadata": {},
   "outputs": [
    {
     "name": "stdout",
     "output_type": "stream",
     "text": [
      "Nama: John\n",
      "Kelas: A\n",
      "Tanggal Lahir: 01-01-2000\n",
      "no hp: 08123456789\n",
      "alamat: Jl. Contoh No. 123\n",
      "Hobi:\n",
      "- Hobi 1\n",
      "- Hobi 2\n",
      "- Hobi 3\n",
      "\n"
     ]
    }
   ],
   "source": [
    "students = [\n",
    "    {\n",
    "        'Nama': 'John',\n",
    "        'Kelas': 'A',\n",
    "        'Tanggal Lahir': '01-01-2000',\n",
    "        'no hp': '08123456789',\n",
    "        'alamat': 'Jl. Contoh No. 123',\n",
    "        'Hobi': ['Hobi 1', 'Hobi 2', 'Hobi 3']\n",
    "    }\n",
    "]\n",
    "for student in students:\n",
    "    print('Nama:', student['Nama'])\n",
    "    print('Kelas:', student['Kelas'])\n",
    "    print('Tanggal Lahir:', student['Tanggal Lahir'])\n",
    "    print('no hp:', student['no hp'])\n",
    "    print('alamat:', student['alamat'])\n",
    "    print('Hobi:')\n",
    "    for hobby in student['Hobi']:\n",
    "        print('-', hobby)\n",
    "    print()"
   ]
  }
 ],
 "metadata": {
  "kernelspec": {
   "display_name": "Python 3",
   "language": "python",
   "name": "python3"
  },
  "language_info": {
   "codemirror_mode": {
    "name": "ipython",
    "version": 3
   },
   "file_extension": ".py",
   "mimetype": "text/x-python",
   "name": "python",
   "nbconvert_exporter": "python",
   "pygments_lexer": "ipython3",
   "version": "3.11.0"
  }
 },
 "nbformat": 4,
 "nbformat_minor": 2
}
