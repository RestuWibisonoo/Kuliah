{
  "nbformat": 4,
  "nbformat_minor": 0,
  "metadata": {
    "colab": {
      "provenance": []
    },
    "kernelspec": {
      "name": "python3",
      "display_name": "Python 3"
    },
    "language_info": {
      "name": "python"
    }
  },
  "cells": [
    {
      "cell_type": "code",
      "source": [
        "import array as ani\n",
        "a = ani.array('i', [1,2,3,4,5])\n",
        "print(\"Bismillah iso : \", end=\"\")\n",
        "for i in range(0, 5):\n",
        "  print(a[i], end=\"\")\n",
        "print()\n",
        "b = ani.array('d', [1.2, 2.5, 3.2, 3.3])\n",
        "print(\"\\nBismillah iso meneh : \", end=\" \")\n",
        "for i in range(0,4):\n",
        "  print(b[i], end=\" \")"
      ],
      "metadata": {
        "colab": {
          "base_uri": "https://localhost:8080/"
        },
        "id": "_kkNC_ED0I1f",
        "outputId": "cb1eed10-eda7-4c70-9f04-5df893b41fbc"
      },
      "execution_count": null,
      "outputs": [
        {
          "output_type": "stream",
          "name": "stdout",
          "text": [
            "Bismillah iso : 12345\n",
            "\n",
            "Bismillah iso meneh :  1.2 2.5 3.2 3.3 "
          ]
        }
      ]
    },
    {
      "cell_type": "code",
      "source": [
        "import array as zuhdun\n",
        "a = zuhdun.array('i', [1, 2, 3, 4, 5])\n",
        "print(\"Array sebelum disisipkan : \", end=\" \")\n",
        "for i in range (0, 5):\n",
        "  print(a[i], end=\" \")\n",
        "print()\n",
        "a.insert(2, 7)\n",
        "print(\"Array setelah disisipkan : \", end=\" \")\n",
        "for i in (a):\n",
        "  print(i, end=\" \")\n",
        "print()\n",
        "b = zuhdun.array('d', [1.2, 2.5, 3.2, 3.3])\n",
        "print(\"Array before insertion   : \", end=\" \")\n",
        "for i in range(0, 4):\n",
        "  print(b[i], end=\" \")\n",
        "print()\n",
        "b.append(5.5)\n",
        "print(\"Array after insettion    : \", end=\" \")\n",
        "for i in (b):\n",
        "  print(i, end=\" \")\n",
        "print()"
      ],
      "metadata": {
        "colab": {
          "base_uri": "https://localhost:8080/"
        },
        "id": "aDTO2HFo7e-R",
        "outputId": "40a83ec6-452e-4936-9c0a-bc9201693c9c"
      },
      "execution_count": null,
      "outputs": [
        {
          "output_type": "stream",
          "name": "stdout",
          "text": [
            "Array sebelum disisipkan :  1 2 3 4 5 \n",
            "Array setelah disisipkan :  1 2 7 3 4 5 \n",
            "Array before insertion   :  1.2 2.5 3.2 3.3 \n",
            "Array after insettion    :  1.2 2.5 3.2 3.3 5.5 \n"
          ]
        }
      ]
    },
    {
      "cell_type": "code",
      "source": [
        "import array as arr\n",
        "a = arr.array('i', [1, 2, 3, 4, 5, 6])\n",
        "print(\"Access element is: \", a[0])\n",
        "print(\"Access element is: \", a[3])\n",
        "b = arr.array('d', [2.5, 3.2, 3.3])\n",
        "print(\"Access element is: \", b[1])\n",
        "print(\"Access element is: \", b[2])"
      ],
      "metadata": {
        "colab": {
          "base_uri": "https://localhost:8080/"
        },
        "id": "IYH0mKVJC2qT",
        "outputId": "e00b1d76-2a81-40da-db58-d72073b5d58f"
      },
      "execution_count": null,
      "outputs": [
        {
          "output_type": "stream",
          "name": "stdout",
          "text": [
            "Access element is:  1\n",
            "Access element is:  4\n",
            "Access element is:  3.2\n",
            "Access element is:  3.3\n"
          ]
        }
      ]
    },
    {
      "cell_type": "code",
      "source": [
        "import array\n",
        "arr = array.array('i', [1, 2, 3, 1, 5])\n",
        "print(\"The new created array is \", end=\"\")\n",
        "for i in range(0, 5):\n",
        "  print(arr[i], end=\" \")\n",
        "\n",
        "print(\"\\r\")\n",
        "print(\"The popped element is: \", end=\"\")\n",
        "print(arr.pop(2))\n",
        "print(\"The array after popping is: \", end=\"\")\n",
        "for i in range(0,4):\n",
        "  print(arr[i], end=\"\")\n",
        "\n",
        "print(\"\\r\")\n",
        "arr.remove(1)\n",
        "print(\"The array after removing is : \", end=\"\")\n",
        "for i in range(0, 3):\n",
        "  print(arr[i], end=\"\")"
      ],
      "metadata": {
        "colab": {
          "base_uri": "https://localhost:8080/"
        },
        "id": "yjaP_3RGDiIM",
        "outputId": "96ccd422-bdaa-4378-9af5-f2b2b4be4f86"
      },
      "execution_count": null,
      "outputs": [
        {
          "output_type": "stream",
          "name": "stdout",
          "text": [
            "The new created array is 1 2 3 1 5 \r\n",
            "The popped element is: 3\n",
            "The array after popping is: 1215\r\n",
            "The array after removing is : 215"
          ]
        }
      ]
    },
    {
      "cell_type": "code",
      "source": [
        "import array as arr\n",
        "l = [1, 2, 3, 4, 5, 6, 7, 8, 9, 10]\n",
        "\n",
        "a = arr.array('i', l)\n",
        "print(\"Initial Array: \")\n",
        "for i in (a):\n",
        "  print(i, end=\" \")\n",
        "Sliced_array = a[3:8]\n",
        "print(\"\\nSlicing elements in a range 3-8: \")\n",
        "print(Sliced_array)\n",
        "Sliced_array = a[5:]\n",
        "print(\"\\nElements sliced from 5th \"\n",
        "  \"element till the end: \")\n",
        "print(Sliced_array)\n",
        "Sliced_array = a[:]\n",
        "print(\"\\nPrinting all elements using slice operation: \")\n",
        "print(Sliced_array)"
      ],
      "metadata": {
        "colab": {
          "base_uri": "https://localhost:8080/"
        },
        "id": "EkjbLovUDjD7",
        "outputId": "b5052280-07e7-44d4-a153-c8d39878c138"
      },
      "execution_count": null,
      "outputs": [
        {
          "output_type": "stream",
          "name": "stdout",
          "text": [
            "Initial Array: \n",
            "1 2 3 4 5 6 7 8 9 10 \n",
            "Slicing elements in a range 3-8: \n",
            "array('i', [4, 5, 6, 7, 8])\n",
            "\n",
            "Elements sliced from 5th element till the end: \n",
            "array('i', [6, 7, 8, 9, 10])\n",
            "\n",
            "Printing all elements using slice operation: \n",
            "array('i', [1, 2, 3, 4, 5, 6, 7, 8, 9, 10])\n"
          ]
        }
      ]
    },
    {
      "cell_type": "code",
      "source": [
        "import array\n",
        "arr = array.array('i', [1, 2, 3, 1, 2, 5])\n",
        "print(\"Array before updation : \", end=\"\")\n",
        "for i in range(0, 6):\n",
        "  print(arr[i], end=\" \")\n",
        "\n",
        "print(\"\\r\")\n",
        "arr[2] = 6\n",
        "print(\"Array after updation:\", end=\"\")\n",
        "for i in range(0, 6):\n",
        "  print(arr[i], end=\" \")\n",
        "print()\n",
        "arr[4] = 8\n",
        "print(\"Array after updation : \", end=\"\")\n",
        "for i in range(0, 6):\n",
        "  print(arr[i], end=\" \")"
      ],
      "metadata": {
        "colab": {
          "base_uri": "https://localhost:8080/"
        },
        "id": "deUJFFQeFKlF",
        "outputId": "e858ab9b-5a22-47d3-ca69-4b9195d48ca4"
      },
      "execution_count": null,
      "outputs": [
        {
          "output_type": "stream",
          "name": "stdout",
          "text": [
            "Array before updation : 1 2 3 1 2 5 \r\n",
            "Array after updation:1 2 6 1 2 5 \n",
            "Array after updation : 1 2 6 1 8 5 "
          ]
        }
      ]
    },
    {
      "cell_type": "code",
      "source": [
        "import array\n",
        "my_array = array.array('i', [1, 2, 3, 4, 2, 5, 2])\n",
        "\n",
        "# Menghitung elemen array\n",
        "count = my_array.count(2)\n",
        "print(\"Number of occurrences of 2:\", count)"
      ],
      "metadata": {
        "colab": {
          "base_uri": "https://localhost:8080/"
        },
        "id": "AwLxnTgkFlJE",
        "outputId": "84b72aae-a9a5-486b-90e3-f543dcbfeb82"
      },
      "execution_count": null,
      "outputs": [
        {
          "output_type": "stream",
          "name": "stdout",
          "text": [
            "Number of occurrences of 2: 3\n"
          ]
        }
      ]
    },
    {
      "cell_type": "code",
      "source": [
        "import array\n",
        "my_array = array.array('i', [1, 2, 3, 4, 2, 5, 2])\n",
        "\n",
        "# Menghitung elemen array\n",
        "count = my_array.count(2)\n",
        "print(\"Number of occurrences of 2:\", count)\n",
        "\n",
        "# Membalik Elemen Array\n",
        "print(\"Original array:\", *my_array)\n",
        "my_array.reverse()\n",
        "print(\"Reversed array:\", *my_array)"
      ],
      "metadata": {
        "colab": {
          "base_uri": "https://localhost:8080/"
        },
        "id": "joNoKbuJHiFt",
        "outputId": "5036975d-62ca-4ca4-d4b9-6461b5132cd4"
      },
      "execution_count": null,
      "outputs": [
        {
          "output_type": "stream",
          "name": "stdout",
          "text": [
            "Number of occurrences of 2: 3\n",
            "Original array: 1 2 3 4 2 5 2\n",
            "Reversed array: 2 5 2 4 3 2 1\n"
          ]
        }
      ]
    },
    {
      "cell_type": "code",
      "source": [
        "import array as arr\n",
        "a = arr.array('i', [1, 2, 3,4,5])\n",
        "print(\"The before array extend \", end=\" \")\n",
        "for i in range (0,5):\n",
        "\n",
        "  print (a[i], end=\" \")\n",
        "\n",
        "print()\n",
        "a.extend([6,7,8,9,10])\n",
        "print(\"\\nThe array after extend : \", end=\" \")\n",
        "\n",
        "for i in range(0,10):\n",
        "\n",
        "  print(a[i], end=\" \")\n",
        "\n",
        "print()"
      ],
      "metadata": {
        "colab": {
          "base_uri": "https://localhost:8080/"
        },
        "id": "IAcmYZtCH3k8",
        "outputId": "9a32a257-59b6-4a94-e9b0-699262543e5c"
      },
      "execution_count": null,
      "outputs": [
        {
          "output_type": "stream",
          "name": "stdout",
          "text": [
            "The before array extend  1 2 3 4 5 \n",
            "\n",
            "The array after extend :  1 2 3 4 5 6 7 8 9 10 \n"
          ]
        }
      ]
    },
    {
      "cell_type": "code",
      "source": [
        "import array as arr\n",
        "a=arr.array('i', [1,2,3,4,5,6])\n",
        "print(\"The Before extend array is \", end=\"\")\n",
        "\n",
        "for i in range(0,6):\n",
        "  print(a[i], end=\" \")\n",
        "print()\n",
        "a.extend([7,8,9,10,11,12])\n",
        "print(\"\\nThe After extend array is \",end=\"\")\n",
        "\n",
        "for i in range(0,12):\n",
        "  print(a[i], end=\" \")\n",
        "print()\n",
        "b = arr.array('d', [2.1, 2.2, 2.3, 2.4, 2.5,2.6])\n",
        "print(\"\\nThe before extend array is \", end=\"\")\n",
        "\n",
        "for i in range(0,6):\n",
        "  print(b[i], end=\" \")\n",
        "print()\n",
        "b.extend([2.6, 2.7,2.8,2.9])\n",
        "print(\"\\nThe after extend array is \",end=\"\")\n",
        "\n",
        "for i in range(0,9+1):\n",
        "  print(b[i], end=\" \")\n",
        "print()"
      ],
      "metadata": {
        "colab": {
          "base_uri": "https://localhost:8080/"
        },
        "id": "lLSpobnwIdNV",
        "outputId": "178ac17b-864e-4682-88f1-1c399b6f16d7"
      },
      "execution_count": null,
      "outputs": [
        {
          "output_type": "stream",
          "name": "stdout",
          "text": [
            "The Before extend array is 1 2 3 4 5 6 \n",
            "\n",
            "The After extend array is 1 2 3 4 5 6 7 8 9 10 11 12 \n",
            "\n",
            "The before extend array is 2.1 2.2 2.3 2.4 2.5 2.6 \n",
            "\n",
            "The after extend array is 2.1 2.2 2.3 2.4 2.5 2.6 2.6 2.7 2.8 2.9 \n"
          ]
        }
      ]
    }
  ]
}