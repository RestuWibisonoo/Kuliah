{
 "cells": [
  {
   "cell_type": "code",
   "execution_count": 2,
   "metadata": {},
   "outputs": [
    {
     "name": "stdout",
     "output_type": "stream",
     "text": [
      "[0, 7, 9, 20, 20, 11]\n"
     ]
    }
   ],
   "source": [
    "# Minimum spaning tree\n",
    "def min_distance(distance, visited):\n",
    "    min_val = float('inf')\n",
    "    min_index = -1\n",
    "\n",
    "    for i in range(len(distance)):\n",
    "        if distance[i] < min_val and i not in visited:\n",
    "            min_val = distance[i]\n",
    "            min_index = i\n",
    "    return min_index\n",
    "\n",
    "def djikstra_algorithm(graph, start_node):\n",
    "    num_nodes = len(graph)\n",
    "    distance = [float('inf')] * num_nodes\n",
    "    visited = []\n",
    "    distance[start_node] = 0\n",
    "\n",
    "    for i in range(num_nodes):\n",
    "        current_node = min_distance(distance, visited)\n",
    "        visited.append(current_node)\n",
    "        for j in range(num_nodes):\n",
    "            if graph[current_node][j] != 0:\n",
    "                new_distance = distance[current_node] + graph[current_node][j]\n",
    "                if new_distance < distance[j]:\n",
    "                    distance[j] = new_distance\n",
    "    return distance\n",
    "\n",
    "graph = [[0,7,9,0,0,14],\n",
    "            [7,0,10,15,0,0],\n",
    "            [9,10,0,11,0,2],\n",
    "            [0,15,11,0,6,0],\n",
    "            [0,0,0,6,0,9],\n",
    "            [14,0,2,0,9,10]]\n",
    "\n",
    "shortest_distance = djikstra_algorithm(graph, 0)\n",
    "print(shortest_distance)"
   ]
  },
  {
   "cell_type": "code",
   "execution_count": 3,
   "metadata": {},
   "outputs": [
    {
     "ename": "ModuleNotFoundError",
     "evalue": "No module named 'networkx'",
     "output_type": "error",
     "traceback": [
      "\u001b[1;31m---------------------------------------------------------------------------\u001b[0m",
      "\u001b[1;31mModuleNotFoundError\u001b[0m                       Traceback (most recent call last)",
      "Cell \u001b[1;32mIn[3], line 1\u001b[0m\n\u001b[1;32m----> 1\u001b[0m \u001b[38;5;28;01mimport\u001b[39;00m \u001b[38;5;21;01mnetworkx\u001b[39;00m \u001b[38;5;28;01mas\u001b[39;00m \u001b[38;5;21;01mnx\u001b[39;00m\n\u001b[0;32m      2\u001b[0m \u001b[38;5;28;01mimport\u001b[39;00m \u001b[38;5;21;01mmatplotlib\u001b[39;00m\u001b[38;5;21;01m.\u001b[39;00m\u001b[38;5;21;01mpyplot\u001b[39;00m \u001b[38;5;28;01mas\u001b[39;00m \u001b[38;5;21;01mplt\u001b[39;00m\n\u001b[0;32m      3\u001b[0m \u001b[38;5;28;01mimport\u001b[39;00m \u001b[38;5;21;01mimageio\u001b[39;00m\n",
      "\u001b[1;31mModuleNotFoundError\u001b[0m: No module named 'networkx'"
     ]
    }
   ],
   "source": [
    "import networkx as nx\n",
    "import matplotlib.pyplot as plt\n",
    "import imageio\n",
    "import os\n",
    "import shutil\n",
    "import heapq\n",
    "\n",
    "def draw_graph(G, node_colors, edge_colors, pos, frame_id):\n",
    "    plt.figure(figsize=(8, 6))\n",
    "    nx.draw(G, pos, node_color=node_colors, edge_color=edge_colors, with_labels=True,node_size=800 , font_size=16)\n",
    "    plt.savefig(f'frames/frame_{frame_id:03d}.png')\n",
    "    plt.close()\n",
    "\n",
    "def animate_djikstra(graph, start_node):\n",
    "    os.makedirs('frames', exist_ok=True)\n",
    "    frame_id = 0\n",
    "    pos = nx.spring_layout(graph, seed=42)\n",
    "    visited = {node: False for node in graph.nodes}\n",
    "    distance = {node: float('inf') for node in graph.nodes}\n",
    "    distance[start_node] = 0\n",
    "    pq = [(0, start_node)]\n",
    "\n",
    "    while pq:\n",
    "        current_distance, current_node = heapq.heappop(pq)\n",
    "        if visited[current_node]:\n",
    "            continue\n",
    "        visited[current_node] = True\n",
    "\n",
    "        node_colors = ['green' if node == current_node else 'red' if visited[node] else 'gray' for node in graph.nodes]\n",
    "        edge_colors = ['black'for edge in graph.edges]\n",
    "        draw_graph(graph, node_colors, edge_colors, pos, frame_id)\n",
    "        frame_id += 1\n",
    "\n",
    "        for neighbor, edge_weight in graph[current_node].items():\n",
    "            new_distance = current_distance + edge_weight['weight']\n",
    "            if not visited[neighbor] and new_distance < distance[neighbor]:\n",
    "                distance[neighbor] = new_distance\n",
    "                heapq.heappush(pq, (new_distance, neighbor))\n",
    "\n",
    "    images = []\n",
    "    for i in range(frame_id):\n",
    "        images.append(imageio.imread(f'frames/frame_{i:03d}.png'))\n",
    "    imageio.mimsave('djikstra.gif', images, duration=5)\n",
    "    shutil.rmtree('frames')\n",
    "\n",
    "G = nx.Graph()\n",
    "G.add_weighted_edges_from([(1, 2, 7), (1, 3, 9), (1, 6, 14), (2, 3, 10), (2, 4, 15), (3, 4, 11), (3, 6, 2), (4, 5, 6), (5, 6, 9)])\n",
    "\n",
    "animate_djikstra(G, 1)\n",
    "from IPython.display import Image\n",
    "Image(filename='djikstra.gif')"
   ]
  },
  {
   "cell_type": "code",
   "execution_count": 1,
   "metadata": {},
   "outputs": [
    {
     "data": {
      "text/plain": [
       "'\\na. Algoritma Dijkstra pada latihan 1 menggunakan kelas graph.\\nb. Algoritma Dijkstra pada contoh menggunakan indeks berupa angka untuk node, sedangkan pada latihan 1 menggunakan nama node.\\nc. Pada algoritma Dijkstra di contoh, node disimpan dalam daftar visited, sedangkan pada latihan 1 menggunakan daftar boolean.\\n'"
      ]
     },
     "execution_count": 1,
     "metadata": {},
     "output_type": "execute_result"
    }
   ],
   "source": [
    "# Latihan 1\n",
    "'''\n",
    "a. Algoritma Dijkstra pada latihan 1 menggunakan kelas graph.\n",
    "b. Algoritma Dijkstra pada contoh menggunakan indeks berupa angka untuk node, sedangkan pada latihan 1 menggunakan nama node.\n",
    "c. Pada algoritma Dijkstra di contoh, node disimpan dalam daftar visited, sedangkan pada latihan 1 menggunakan daftar boolean.\n",
    "'''"
   ]
  },
  {
   "cell_type": "code",
   "execution_count": 5,
   "metadata": {},
   "outputs": [
    {
     "name": "stdout",
     "output_type": "stream",
     "text": [
      "5\n"
     ]
    }
   ],
   "source": [
    "# Latihan 2\n",
    "\n",
    "import heapq\n",
    "\n",
    "def min_product_path(n, edges, start, end):\n",
    "    # Create adjacency list\n",
    "    graph = {i: [] for i in range(1, n + 1)}\n",
    "    for (u, v), weight in edges:\n",
    "        graph[u].append((v, weight))\n",
    "    \n",
    "    # Priority queue to store (product, node)\n",
    "    pq = [(1, start)]\n",
    "    # Dictionary to store the minimum product to each node\n",
    "    min_product = {i: float('inf') for i in range(1, n + 1)}\n",
    "    min_product[start] = 1\n",
    "    \n",
    "    while pq:\n",
    "        current_product, current_node = heapq.heappop(pq)\n",
    "        \n",
    "        if current_node == end:\n",
    "            return current_product\n",
    "        \n",
    "        for neighbor, weight in graph[current_node]:\n",
    "            new_product = current_product * weight\n",
    "            if new_product < min_product[neighbor]:\n",
    "                min_product[neighbor] = new_product\n",
    "                heapq.heappush(pq, (new_product, neighbor))\n",
    "    \n",
    "    return -1 if min_product[end] == float('inf') else min_product[end]\n",
    "\n",
    "# Example usage\n",
    "N = 3\n",
    "E = 3\n",
    "edges = [((1, 2), 5), ((1, 3), 9), ((2, 3), 1)]\n",
    "S = 1\n",
    "D = 3\n",
    "\n",
    "print(min_product_path(N, edges, S, D))  # Output: 5"
   ]
  },
  {
   "cell_type": "code",
   "execution_count": 4,
   "metadata": {},
   "outputs": [
    {
     "name": "stdout",
     "output_type": "stream",
     "text": [
      "5\n",
      "3\n"
     ]
    }
   ],
   "source": [
    "# Latihan 3\n",
    "\n",
    "from collections import defaultdict, deque\n",
    "\n",
    "def count_paths_with_min_time(N, M, edges):\n",
    "    graph = defaultdict(list)\n",
    "    for u, v, t in edges:\n",
    "        graph[u].append((v, t))\n",
    "\n",
    "    min_time = [float('inf')] * N\n",
    "    min_time[0] = 0\n",
    "\n",
    "    count_paths = [0] * N\n",
    "    count_paths[0] = 1\n",
    "\n",
    "    visited = set()\n",
    "    visited.add(0)\n",
    "\n",
    "    queue = deque()\n",
    "    queue.append(0)\n",
    "\n",
    "    while queue:\n",
    "        node = queue.popleft()\n",
    "        visited.remove(node)\n",
    "\n",
    "        for neighbor, time in graph[node]:\n",
    "            if min_time[node] + time <= min_time[neighbor]:\n",
    "                if min_time[node] + time < min_time[neighbor]:\n",
    "                    min_time[neighbor] = min_time[node] + time\n",
    "                    count_paths[neighbor] = count_paths[node]\n",
    "                else:\n",
    "                    count_paths[neighbor] += count_paths[node]\n",
    "                \n",
    "                if neighbor not in visited:\n",
    "                    queue.append(neighbor)\n",
    "                    visited.add(neighbor)\n",
    "\n",
    "    return count_paths[N-1]\n",
    "\n",
    "# Example usage:\n",
    "N = 7\n",
    "M = 10\n",
    "edges = [[0, 6, 7], [0, 1, 2], [1, 2, 3], [1, 3, 3], [6, 3, 3], [3, 5, 1], [6, 5, 1], [2, 5, 1], [0, 4, 5], [4, 6, 2]]\n",
    "print(count_paths_with_min_time(N, M, edges))  # Output: 4\n",
    "\n",
    "N = 6\n",
    "M = 8\n",
    "edges = [[0, 5, 8], [0, 2, 2], [0, 1, 1], [1, 3, 3], [1, 2, 3], [2, 5, 6], [3, 4, 2], [4, 5, 2]]\n",
    "print(count_paths_with_min_time(N, M, edges))  # Output: 3\n"
   ]
  },
  {
   "cell_type": "markdown",
   "metadata": {},
   "source": []
  }
 ],
 "metadata": {
  "kernelspec": {
   "display_name": "Python 3",
   "language": "python",
   "name": "python3"
  },
  "language_info": {
   "codemirror_mode": {
    "name": "ipython",
    "version": 3
   },
   "file_extension": ".py",
   "mimetype": "text/x-python",
   "name": "python",
   "nbconvert_exporter": "python",
   "pygments_lexer": "ipython3",
   "version": "3.12.3"
  }
 },
 "nbformat": 4,
 "nbformat_minor": 2
}
