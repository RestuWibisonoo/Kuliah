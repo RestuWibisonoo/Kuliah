{
 "cells": [
  {
   "cell_type": "code",
   "execution_count": 6,
   "metadata": {},
   "outputs": [
    {
     "name": "stdout",
     "output_type": "stream",
     "text": [
      "20\n",
      "20\n",
      "10\n",
      "5\n",
      "1\n",
      "1\n",
      "\n",
      "\n",
      "\n"
     ]
    }
   ],
   "source": [
    "# Algoritma Greedy\n",
    "\n",
    "def coin_change_greedy(n):\n",
    "    coins = [20, 10, 5, 1]\n",
    "    i = 0\n",
    "\n",
    "    while n > 0:\n",
    "        if (coins[i] > n):\n",
    "            i += 1\n",
    "        else:\n",
    "            print(coins[i])\n",
    "            n -= coins[i];\n",
    "    print(\"\\n\\n\")\n",
    "coin_change_greedy(57)"
   ]
  },
  {
   "cell_type": "code",
   "execution_count": 3,
   "metadata": {},
   "outputs": [
    {
     "name": "stdout",
     "output_type": "stream",
     "text": [
      "The following activites are selected\n",
      "0\n",
      "1\n",
      "3\n",
      "4\n"
     ]
    }
   ],
   "source": [
    "# n --> Jumlah total kegiatan\n",
    "# s[] --> Array yang berisi waktu mulai semua aktivitas\n",
    "# f[] --> Array yang berisi waktu selesai semua aktivitas\n",
    "\n",
    "def printMaxActivites(s, f):\n",
    "    n = len(f)\n",
    "    print(\"The following activites are selected\")\n",
    "\n",
    "    # aktivitas pertama selalu terpilih duluan\n",
    "    i = 0\n",
    "    print(i),\n",
    "\n",
    "    # Pertimbangkan aktivitas lainnya\n",
    "    for j in range(n):\n",
    "\n",
    "        # Jika aktivitas ini memiliki waktu mulai lebih besar\n",
    "        # atau sama dengan waktu selesai aktivitas sebelumnya,\n",
    "        # maka pilih aktivitas tersebut\n",
    "        if s[j] >= f[i]:\n",
    "            print(j),\n",
    "            i = j\n",
    "\n",
    "# Program untuk cek pemanggilan fungsi di atas\n",
    "s = [1, 3, 0, 5, 8, 5]\n",
    "f = [2, 4, 6, 7, 9, 9]\n",
    "printMaxActivites(s, f)"
   ]
  },
  {
   "cell_type": "code",
   "execution_count": 9,
   "metadata": {},
   "outputs": [
    {
     "name": "stdout",
     "output_type": "stream",
     "text": [
      "Maximum Value that can be Obtained is 220\n"
     ]
    }
   ],
   "source": [
    "# Knapsack (0/1) dengan pemrograman dinamis\n",
    "\n",
    "def knapSack(W, wt, val, n):\n",
    "\n",
    "    # Kondisi dasar\n",
    "    if n == 0 or W == 0:\n",
    "        return 0\n",
    "    \n",
    "    if t[n][W] != -1:\n",
    "        return t[n][W]\n",
    "    \n",
    "    # Diagram pilihan\n",
    "    if wt[n-1] <= W:\n",
    "        t[n][W] = max(\n",
    "            val[n-1] + knapSack(W-wt[n-1], wt, val, n-1),\n",
    "            knapSack(W, wt, val, n-1)\n",
    "        )\n",
    "        return t[n][W]\n",
    "    else:\n",
    "        t[n][W] = knapSack(W, wt, val, n-1)\n",
    "        return t[n][W]\n",
    "\n",
    "# Driver code\n",
    "if __name__ == \"__main__\":\n",
    "    val = [60, 100, 120]\n",
    "    wt = [10, 20, 30]\n",
    "    W = 50\n",
    "    n = len(val)\n",
    "\n",
    "    # We initialize the matrix whit -1 at first\n",
    "    t = [[-1 for _ in range(W + 1)] for _ in range(n + 1)]\n",
    "    print(\"Maximum Value that can be Obtained is\", knapSack(W, wt, val, n))"
   ]
  },
  {
   "cell_type": "code",
   "execution_count": 11,
   "metadata": {},
   "outputs": [
    {
     "name": "stdout",
     "output_type": "stream",
     "text": [
      "Maximum value we can obtain = 240.0\n"
     ]
    }
   ],
   "source": [
    "# Knapsack Pecahan dengan Algoritma Greedy\n",
    "\n",
    "class Item:\n",
    "    def __init__(self, weight, value):\n",
    "        self.weight = weight\n",
    "        self.value = value\n",
    "        # Hitung rasio nilai terhadap berat untuk setiap item\n",
    "        self.ratio = value / weight\n",
    "\n",
    "def fractional_knapsack(items, capacity):\n",
    "    # Urutkan item berdasarkan rasio nilai terhadap berat dalam urutan menurun\n",
    "    items.sort(key=lambda x: x.ratio, reverse=True)\n",
    "\n",
    "    total_value = 0\n",
    "    # Inisialisasi kapasitas tersisa dari knapsack\n",
    "    remaining_capacity = capacity\n",
    "\n",
    "    # Iterasi melalui daftar item yang telah diurutkan\n",
    "    for item in items:\n",
    "        if remaining_capacity <= 0:\n",
    "            break\n",
    "\n",
    "        # Hitung fraksi item yang dapat dimasukkan ke dalam knapsack\n",
    "        fraction = min(1, remaining_capacity / item.weight)\n",
    "\n",
    "        # Perbarui nilai total dan kapasitas tersisa\n",
    "        total_value += fraction * item.value\n",
    "        remaining_capacity -= fraction * item.weight\n",
    "\n",
    "    # Kembalikan nilai total maksimum yang diperoleh\n",
    "    return round(total_value, 2)\n",
    "\n",
    "# Contoh penggunaan\n",
    "items = [Item(10, 60), Item(20, 100), Item(30, 120)]\n",
    "capacity = 50\n",
    "print(\"Maximum value we can obtain =\", fractional_knapsack(items, capacity))\n"
   ]
  },
  {
   "cell_type": "code",
   "execution_count": null,
   "metadata": {},
   "outputs": [],
   "source": [
    "# Latihan 1\n",
    "\n",
    "'''\n",
    "Pengurutan:\n",
    "-Halaman 4-5: Tidak ada pengurutan.\n",
    "-Kode pada Gambar: Mengurutkan aktivitas berdasarkan waktu selesai.\n",
    "\n",
    "Data:\n",
    "-Halaman 4-5: Menggunakan dua daftar (s dan f).\n",
    "-Kode pada Gambar: Menggunakan dictionary (data).\n",
    "\n",
    "Output:\n",
    "-Halaman 4-5: Mencetak indeks aktivitas.\n",
    "-Kode pada Gambar: Mencetak nama aktivitas.\n",
    "'''"
   ]
  },
  {
   "cell_type": "code",
   "execution_count": 12,
   "metadata": {},
   "outputs": [
    {
     "name": "stdout",
     "output_type": "stream",
     "text": [
      "Minimum number of bins required: 2\n",
      "Minimum number of bins required: 4\n"
     ]
    }
   ],
   "source": [
    "# Latihan 2\n",
    "\n",
    "def minimize_bins(berat, c):\n",
    "    berat.sort(reverse=True)\n",
    "    bins = 0\n",
    "    remaining_capacity = [c] * len(berat)\n",
    "\n",
    "    for item in berat:\n",
    "        for i in range(bins):\n",
    "            if remaining_capacity[i] >= item:\n",
    "                remaining_capacity[i] -= item\n",
    "                break\n",
    "        else:\n",
    "            remaining_capacity[bins] -= item\n",
    "            bins += 1\n",
    "\n",
    "    return bins\n",
    "\n",
    "# Example usage\n",
    "berat = [4, 8, 1, 4, 2, 1]\n",
    "c = 10\n",
    "print(\"Minimum number of bins required:\", minimize_bins(berat, c))\n",
    "\n",
    "berat = [9, 8, 2, 2, 5, 4]\n",
    "c = 10\n",
    "print(\"Minimum number of bins required:\", minimize_bins(berat, c))"
   ]
  },
  {
   "cell_type": "code",
   "execution_count": 13,
   "metadata": {},
   "outputs": [
    {
     "name": "stdout",
     "output_type": "stream",
     "text": [
      "Maximum number of caught thieves: 2\n",
      "Maximum number of caught thieves: 1\n",
      "Maximum number of caught thieves: 2\n"
     ]
    }
   ],
   "source": [
    "# Latihan 3\n",
    "\n",
    "def max_caught_thieves(arr, k):\n",
    "    n = len(arr)\n",
    "    police_positions = []\n",
    "    caught_thieves = 0\n",
    "\n",
    "    for i in range(n):\n",
    "        if arr[i] == 'P':\n",
    "            police_positions.append(i)\n",
    "        elif arr[i] == 'T':\n",
    "            for j in range(len(police_positions)):\n",
    "                if abs(police_positions[j] - i) <= k:\n",
    "                    caught_thieves += 1\n",
    "                    del police_positions[j]\n",
    "                    break\n",
    "\n",
    "    return caught_thieves\n",
    "\n",
    "# Example usage\n",
    "arr = ['P', 'T', 'T', 'P', 'T']\n",
    "k = 1\n",
    "print(\"Maximum number of caught thieves:\", max_caught_thieves(arr, k))\n",
    "\n",
    "arr = ['T', 'T', 'P', 'P', 'T', 'P']\n",
    "k = 2\n",
    "print(\"Maximum number of caught thieves:\", max_caught_thieves(arr, k))\n",
    "\n",
    "arr = ['P', 'T', 'P', 'T', 'T', 'P']\n",
    "k = 3\n",
    "print(\"Maximum number of caught thieves:\", max_caught_thieves(arr, k))"
   ]
  }
 ],
 "metadata": {
  "kernelspec": {
   "display_name": "Python 3",
   "language": "python",
   "name": "python3"
  },
  "language_info": {
   "codemirror_mode": {
    "name": "ipython",
    "version": 3
   },
   "file_extension": ".py",
   "mimetype": "text/x-python",
   "name": "python",
   "nbconvert_exporter": "python",
   "pygments_lexer": "ipython3",
   "version": "3.12.3"
  }
 },
 "nbformat": 4,
 "nbformat_minor": 2
}
