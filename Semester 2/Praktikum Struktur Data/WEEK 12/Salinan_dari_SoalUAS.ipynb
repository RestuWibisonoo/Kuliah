{
  "cells": [
    {
      "cell_type": "markdown",
      "metadata": {
        "id": "r0Z33IjRZY81"
      },
      "source": [
        "#Kirimkan file jawaban ke link berikut:\n",
        "https://forms.gle/wJYrAAm1pF9RwuAM8\n"
      ]
    },
    {
      "cell_type": "markdown",
      "metadata": {
        "id": "NRHaKeva7q1p"
      },
      "source": [
        "##Soal 1 - Tree\n",
        "Perhatikan program berikut !\n",
        "\n",
        "Perbaikilah program diatas sampai menghasilkan output sebagai berikut :\n",
        "\n",
        "Tree sebelum proses hapus: 8 3 15 12 7\n",
        "\n",
        "Tree setelah proses hapus: 8 3 15 7\n",
        "\n",
        "Tree setelah proses insert: 8 3 5 15 7 6"
      ]
    },
    {
      "cell_type": "code",
      "execution_count": null,
      "metadata": {
        "id": "a_1gTMM2Yyi9"
      },
      "outputs": [],
      "source": [
        "class Node:\n",
        "    def __init__(self, data):\n",
        "        self.data = data\n",
        "        self.left = None\n",
        "        self.right = None\n",
        "\n",
        "def inorder(temp):\n",
        "    if(not temp):\n",
        "        return\n",
        "    inorder(temp.left)\n",
        "    print(temp.data, end=\" \")\n",
        "    inorder(temp.right)\n",
        "\n",
        "def delDeep(root, d_node):\n",
        "    q = []\n",
        "    q.append(root)\n",
        "    while(len(q)):\n",
        "        temp = q.pop(0)\n",
        "        if temp is d_node:\n",
        "            temp = None\n",
        "            return\n",
        "        if temp.right:\n",
        "            if temp.right is d_node:\n",
        "                temp.right = None\n",
        "                return\n",
        "            else:\n",
        "                q.append(temp.right)\n",
        "        if temp.left:\n",
        "            if temp.left is d_node:\n",
        "                temp.left = None\n",
        "                return\n",
        "            else:\n",
        "                q.append(temp.left)\n",
        "\n",
        "def delet(root):\n",
        "    if root == None:\n",
        "        return None\n",
        "    if root.left == None and root.right == None:\n",
        "        if root.key == key:\n",
        "            return None\n",
        "        else:\n",
        "            return root\n",
        "    k_node = None\n",
        "    q = []\n",
        "    q.append(root)\n",
        "    temp = None\n",
        "    while(len(q)):\n",
        "        temp = q.pop(0)\n",
        "        if temp.left:\n",
        "            q.append(temp.left)\n",
        "        if temp.right:\n",
        "            q.append(temp.right)\n",
        "    if k_node:\n",
        "        delDeep(root, temp)\n",
        "    return root"
      ]
    },
    {
      "cell_type": "markdown",
      "metadata": {
        "id": "ygbzmcq9EU8D"
      },
      "source": [
        "##Soal 2 - Hashing\n",
        "\n",
        "Perbaiki program dibawah ini !\n",
        "Inputkan sesuai infomasi berikut:\n",
        "  (\"Paku\", 5)\n",
        "  (\"Palu\", 10)\n",
        "  (\"Gergaji\", 15)\n",
        "  (\"Skop\", 20)\n",
        "  (\"Pasah\", 25)\n",
        "sampai menghasilkan output sebagai berikut:\n",
        "20\n",
        "25\n",
        "10\n",
        "\n",
        "\n"
      ]
    },
    {
      "cell_type": "code",
      "execution_count": null,
      "metadata": {
        "id": "6-6qD2ikZOF_"
      },
      "outputs": [],
      "source": [
        "class Node:\n",
        "    def __init__(self, key, value):\n",
        "        self.key = key\n",
        "        self.value = value\n",
        "        self.next = None\n",
        "\n",
        "class separatechaining:\n",
        "    def __init__(self, size):\n",
        "        self.size = size\n",
        "        self.table = [None] * size;\n",
        "\n",
        "    def hash_function(self, node):\n",
        "        return hash(node) % self.size;\n",
        "\n",
        "    def insert(self, node, value):\n",
        "        index = self.hash_function(key)\n",
        "        if self.table[index] is None:\n",
        "            self.table[index] = Node(key, value)\n",
        "        else:\n",
        "            current = self.table[index]\n",
        "            while current.next:\n",
        "                current = current.next\n",
        "            current.next = Node(key, value)\n",
        "\n",
        "    def search(self, key):\n",
        "        index = self.hash_function(key)\n",
        "        current = self.table[index]\n",
        "        while current:\n",
        "            if current.key = key:\n",
        "                return current.value\n",
        "            current = current.next\n",
        "        return Node\n",
        "\n",
        "print(hash_table.search(\"Skop\"))\n",
        "print(hash_table.search(\"Pasah\"))\n",
        "print(hash_table.search(\"Palu\"))"
      ]
    },
    {
      "cell_type": "markdown",
      "metadata": {
        "id": "OTPW3zHxJ1VQ"
      },
      "source": [
        "##Soal 3 - Algoritma Greedy\n",
        "\n",
        "Diketahui informasi berikut :\n",
        "*   Ani berhutang ke Budi sebesar 5.000\n",
        "*   Ani juga memiliki hutang ke Doni sebesar 10.000\n",
        "*   Budi memiliki hutang ke Cahyo sebesar 10.000\n",
        "*   Cahyo berhutang ke Ani sebesar 1.000\n",
        "*   Cahyo berhutang ke Eko sebesar 10.000\n",
        "*   Doni memiliki hutang ke Cahyo sebesar 5.000\n",
        "*   Eko memiliki hutang kepada Budi sebesar 5.000 dan kepada Doni sebesar 500\n",
        "\n",
        "Dari data diatas transasi minimum yang dapat dilakukan untuk menyelesaikan persoalan keuangan tersebut.\n",
        "\n",
        "\n",
        "\n",
        "\n",
        "\n",
        "\n",
        "\n",
        "\n"
      ]
    }
  ],
  "metadata": {
    "colab": {
      "provenance": []
    },
    "kernelspec": {
      "display_name": "Python 3",
      "name": "python3"
    },
    "language_info": {
      "codemirror_mode": {
        "name": "ipython",
        "version": 3
      },
      "file_extension": ".py",
      "mimetype": "text/x-python",
      "name": "python",
      "nbconvert_exporter": "python",
      "pygments_lexer": "ipython3",
      "version": "3.12.3"
    }
  },
  "nbformat": 4,
  "nbformat_minor": 0
}
