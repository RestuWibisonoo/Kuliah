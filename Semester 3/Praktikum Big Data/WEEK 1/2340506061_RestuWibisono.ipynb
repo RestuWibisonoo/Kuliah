{
 "cells": [
  {
   "cell_type": "code",
   "execution_count": 1,
   "id": "09825241-62d3-4eb4-951a-a2ee72e88786",
   "metadata": {},
   "outputs": [
    {
     "name": "stderr",
     "output_type": "stream",
     "text": [
      "24/08/23 14:03:42 WARN Utils: Your hostname, restu-M1403QA resolves to a loopback address: 127.0.1.1; using 192.168.1.27 instead (on interface wlp1s0)\n",
      "24/08/23 14:03:42 WARN Utils: Set SPARK_LOCAL_IP if you need to bind to another address\n",
      "Setting default log level to \"WARN\".\n",
      "To adjust logging level use sc.setLogLevel(newLevel). For SparkR, use setLogLevel(newLevel).\n",
      "24/08/23 14:03:43 WARN NativeCodeLoader: Unable to load native-hadoop library for your platform... using builtin-java classes where applicable\n",
      "                                                                                \r"
     ]
    },
    {
     "name": "stdout",
     "output_type": "stream",
     "text": [
      "+-----+----+---------+---------+------+\n",
      "| Nama|Usia|Pekerjaan|     Hobi|Gender|\n",
      "+-----+----+---------+---------+------+\n",
      "|  Ali|  34|    Dosen|  Belajar|     L|\n",
      "| Budi|  23|     Guru|   Gamers|     L|\n",
      "|Citra|  29|    Model|Perawatan|     P|\n",
      "| Dina|  45| Penyanyi| Berjoget|     P|\n",
      "+-----+----+---------+---------+------+\n",
      "\n"
     ]
    }
   ],
   "source": [
    "from pyspark.sql import SparkSession\n",
    "\n",
    "# Memulai Spark session\n",
    "spark = SparkSession.builder.appName(\"BigDataPractice\").getOrCreate()\n",
    "\n",
    "# Membuat DataFrame sederhana\n",
    "data = [(\"Ali\", 34, \"Dosen\", \"Belajar\", \"L\"), (\"Budi\", 23, \"Guru\", \"Gamers\", \"L\"), (\"Citra\", 29, \"Model\", \"Perawatan\", \"P\"), (\"Dina\", 45, \"Penyanyi\", \"Berjoget\", \"P\")]\n",
    "columns = [\"Nama\", \"Usia\", \"Pekerjaan\", \"Hobi\", \"Gender\"]\n",
    "df = spark.createDataFrame(data, columns)\n",
    "\n",
    "# Menampilkan DataFrame\n",
    "df.show()\n"
   ]
  },
  {
   "cell_type": "code",
   "execution_count": 57,
   "id": "e52365a0-2025-44d8-9f83-53919230c9b2",
   "metadata": {},
   "outputs": [
    {
     "name": "stdout",
     "output_type": "stream",
     "text": [
      "+-----+----+\n",
      "| Nama|Usia|\n",
      "+-----+----+\n",
      "|  Ali|  34|\n",
      "| Budi|  23|\n",
      "|Citra|  29|\n",
      "| Dina|  45|\n",
      "+-----+----+\n",
      "\n",
      "+----+----+\n",
      "|Nama|Usia|\n",
      "+----+----+\n",
      "| Ali|  34|\n",
      "|Dina|  45|\n",
      "+----+----+\n",
      "\n",
      "+---------+\n",
      "|avg(Usia)|\n",
      "+---------+\n",
      "|    32.75|\n",
      "+---------+\n",
      "\n",
      "+-----+----+\n",
      "| Nama|Usia|\n",
      "+-----+----+\n",
      "| Dina|  45|\n",
      "|  Ali|  34|\n",
      "|Citra|  29|\n",
      "| Budi|  23|\n",
      "+-----+----+\n",
      "\n"
     ]
    }
   ],
   "source": [
    "from pyspark.sql import SparkSession\n",
    "\n",
    "# Memulai Spark session\n",
    "spark = SparkSession.builder.appName(\"BigDataPractice\").getOrCreate()\n",
    "\n",
    "# Membuat DataFrame sederhana\n",
    "df = spark.createDataFrame(data, columns)\n",
    "\n",
    "# Menampilkan DataFrame\n",
    "df.show()\n",
    "\n",
    "# Filtering data (menyaring data)\n",
    "df_filtered = df.filter(df['Usia'] > 30)\n",
    "df_filtered.show()\n",
    "\n",
    "# Menghitung rata-rata usia\n",
    "from pyspark.sql.functions import avg\n",
    "df.groupBy().agg(avg(\"Usia\")).show()\n",
    "\n",
    "# Mengurutkan data berdasarkan usia\n",
    "df_sorted = df.orderBy(\"Usia\", ascending=False)\n",
    "df_sorted.show()\n"
   ]
  },
  {
   "cell_type": "code",
   "execution_count": 54,
   "id": "6ba73f7a-48e3-414b-9548-9a1adc03c17d",
   "metadata": {},
   "outputs": [
    {
     "name": "stdout",
     "output_type": "stream",
     "text": [
      "DataFrame dengan kolom baru:\n",
      "    Nama  Usia      Kota\n",
      "0    Ali    34   Jakarta\n",
      "1   Budi    23   Bandung\n",
      "2  Citra    29  Surabaya\n",
      "3   Dina    45     Medan\n",
      "\n",
      "DataFrame setelah filtering (Usia > 30):\n",
      "   Nama  Usia     Kota\n",
      "0   Ali    34  Jakarta\n",
      "3  Dina    45    Medan\n"
     ]
    }
   ],
   "source": [
    "import pandas as pd\n",
    "\n",
    "# Membuat DataFrame Pandas\n",
    "df_pandas = pd.DataFrame(data_pandas)\n",
    "\n",
    "# Menambahkan kolom baru \"Kota\" pada DataFrame\n",
    "df_pandas[\"Kota\"] = [\"Jakarta\", \"Bandung\", \"Surabaya\", \"Medan\"]\n",
    "\n",
    "# Menampilkan DataFrame yang sudah dimodifikasi\n",
    "print(\"DataFrame dengan kolom baru:\")\n",
    "print(df_pandas)\n",
    "\n",
    "# Melakukan filtering data berdasarkan usia (contohnya: Usia > 30)\n",
    "df_filtered = df_pandas[df_pandas['Usia'] > 30]\n",
    "\n",
    "# Menampilkan DataFrame yang sudah difilter\n",
    "print(\"\\nDataFrame setelah filtering (Usia > 30):\")\n",
    "print(df_filtered)\n"
   ]
  },
  {
   "cell_type": "code",
   "execution_count": 4,
   "id": "c6608740-430f-4820-b618-bb236bd02f22",
   "metadata": {},
   "outputs": [
    {
     "name": "stdout",
     "output_type": "stream",
     "text": [
      "DataFrame setelah digabungkan:\n",
      "    Nama  Usia Pekerjaan\n",
      "0    Ali    34    Dokter\n",
      "1   Budi    23      Guru\n",
      "2  Citra    29  Insinyur\n",
      "3   Dina    45   Perawat\n",
      "\n",
      "Statistik deskriptif:\n",
      "            Usia\n",
      "count   4.000000\n",
      "mean   32.750000\n",
      "std     9.322911\n",
      "min    23.000000\n",
      "25%    27.500000\n",
      "50%    31.500000\n",
      "75%    36.750000\n",
      "max    45.000000\n"
     ]
    },
    {
     "data": {
      "image/png": "[encoded data removed]",
      "text/plain": [
       "<Figure size 640x480 with 1 Axes>"
      ]
     },
     "metadata": {},
     "output_type": "display_data"
    }
   ],
   "source": [
    "import pandas as pd\n",
    "import matplotlib.pyplot as plt\n",
    "\n",
    "# Membuat DataFrame Pandas pertama\n",
    "data_pandas = {\"Nama\": [\"Ali\", \"Budi\", \"Citra\", \"Dina\"], \"Usia\": [34, 23, 29, 45]}\n",
    "df_pandas = pd.DataFrame(data_pandas)\n",
    "\n",
    "# Membuat DataFrame Pandas kedua\n",
    "data_pandas_2 = {\"Nama\": [\"Ali\", \"Budi\", \"Citra\", \"Dina\"], \"Pekerjaan\": [\"Dokter\", \"Guru\", \"Insinyur\", \"Perawat\"]}\n",
    "df_pandas_2 = pd.DataFrame(data_pandas_2)\n",
    "\n",
    "# Join antara dua DataFrame berdasarkan kolom \"Nama\"\n",
    "df_joined = pd.merge(df_pandas, df_pandas_2, on=\"Nama\")\n",
    "print(\"DataFrame setelah digabungkan:\")\n",
    "print(df_joined)\n",
    "\n",
    "# Menghitung statistik deskriptif dari DataFrame\n",
    "print(\"\\nStatistik deskriptif:\")\n",
    "print(df_pandas.describe())\n",
    "\n",
    "# Visualisasi data: Membuat plot bar untuk kolom 'Usia'\n",
    "df_pandas['Usia'].plot(kind='bar', color='tomato', title='Usia per Individu')\n",
    "plt.xlabel('Individu')\n",
    "plt.ylabel('Usia')\n",
    "plt.xticks(ticks=range(len(df_pandas)), labels=df_pandas['Nama'])\n",
    "plt.show()\n"
   ]
  },
  {
   "cell_type": "code",
   "execution_count": 49,
   "id": "8fd48b85-eda3-4458-943b-8c065da81c58",
   "metadata": {},
   "outputs": [
    {
     "name": "stdout",
     "output_type": "stream",
     "text": [
      "    Nama  Usia\n",
      "0    Ali    34\n",
      "1   Budi    23\n",
      "2  Citra    29\n",
      "3   Dina    45\n",
      "\n",
      "Rata-rata Usia: 32.75\n"
     ]
    }
   ],
   "source": [
    "# DataFrame PySpark\n",
    "df_spark = spark.createDataFrame(data_spark, schema=columns)\n",
    "\n",
    "# DataFrame Pandas\n",
    "df_pandas = pd.DataFrame(data_pandas)\n",
    "\n",
    "# Konversi DataFrame PySpark ke Pandas\n",
    "df_spark_pandas = df_spark.toPandas()\n",
    "\n",
    "# Gabungkan DataFrame PySpark dan Pandas\n",
    "df_combined = pd.concat([df_spark_pandas, df_pandas], ignore_index=True)\n",
    "\n",
    "#Menampilkan DataFrame hasil konversi\n",
    "print(df_pandas)\n",
    "\n",
    "# Hitung Rata-rata Usia\n",
    "rata_rata_usia = df_combined[\"Usia\"].mean()\n",
    "print(\"\\nRata-rata Usia:\", rata_rata_usia)"
   ]
  },
  {
   "cell_type": "code",
   "execution_count": 53,
   "id": "1a0d01bf-9238-42d2-aa05-c6d1784889df",
   "metadata": {},
   "outputs": [
    {
     "name": "stdout",
     "output_type": "stream",
     "text": [
      "    Nama  Usia\n",
      "0    Ali    34\n",
      "1   Budi    23\n",
      "2  Citra    29\n",
      "3   Dina    45\n",
      "\n",
      "Usia Maksimum: 45\n"
     ]
    }
   ],
   "source": [
    "# DataFrame PySpark\n",
    "df_spark = spark.createDataFrame(data_spark, schema=columns)\n",
    "\n",
    "# DataFrame Pandas\n",
    "df_pandas = pd.DataFrame(data_pandas)\n",
    "\n",
    "# Konversi DataFrame PySpark ke Pandas\n",
    "df_spark_pandas = df_spark.toPandas()\n",
    "\n",
    "# Gabungkan DataFrame PySpark dan Pandas\n",
    "df_combined = pd.concat([df_spark_pandas, df_pandas], ignore_index=True)\n",
    "\n",
    "#Menampilkan DataFrame hasil konversi\n",
    "print(df_pandas)\n",
    "\n",
    "# Hitung Nilai Maksimum Usia\n",
    "usia_maksimum = df_combined[\"Usia\"].max()\n",
    "print(\"\\nUsia Maksimum:\", usia_maksimum)"
   ]
  }
 ],
 "metadata": {
  "kernelspec": {
   "display_name": "Python 3 (ipykernel)",
   "language": "python",
   "name": "python3"
  },
  "language_info": {
   "codemirror_mode": {
    "name": "ipython",
    "version": 3
   },
   "file_extension": ".py",
   "mimetype": "text/x-python",
   "name": "python",
   "nbconvert_exporter": "python",
   "pygments_lexer": "ipython3",
   "version": "3.12.4"
  }
 },
 "nbformat": 4,
 "nbformat_minor": 5
}
