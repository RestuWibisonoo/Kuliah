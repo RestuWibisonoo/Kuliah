{
 "cells": [
  {
   "cell_type": "code",
   "execution_count": 1,
   "metadata": {},
   "outputs": [
    {
     "name": "stdout",
     "output_type": "stream",
     "text": [
      "   anime_id                              name  \\\n",
      "0     32281                    Kimi no Na wa.   \n",
      "1      5114  Fullmetal Alchemist: Brotherhood   \n",
      "2     28977                          Gintama°   \n",
      "3      9253                       Steins;Gate   \n",
      "4      9969                     Gintama&#039;   \n",
      "\n",
      "                                               genre   type episodes  rating  \\\n",
      "0               Drama, Romance, School, Supernatural  Movie        1    9.37   \n",
      "1  Action, Adventure, Drama, Fantasy, Magic, Mili...     TV       64    9.26   \n",
      "2  Action, Comedy, Historical, Parody, Samurai, S...     TV       51    9.25   \n",
      "3                                   Sci-Fi, Thriller     TV       24    9.17   \n",
      "4  Action, Comedy, Historical, Parody, Samurai, S...     TV       51    9.16   \n",
      "\n",
      "   members  \n",
      "0   200630  \n",
      "1   793665  \n",
      "2   114262  \n",
      "3   673572  \n",
      "4   151266  \n"
     ]
    }
   ],
   "source": [
    "import pandas as pd\n",
    "\n",
    "# Membaca file CSV\n",
    "df = pd.read_csv(\"anime.csv\")\n",
    "\n",
    "# Menampilkan 5 baris pertama dari data\n",
    "print(df.head())\n"
   ]
  },
  {
   "cell_type": "code",
   "execution_count": 2,
   "metadata": {},
   "outputs": [
    {
     "name": "stdout",
     "output_type": "stream",
     "text": [
      "anime_id      0\n",
      "name          0\n",
      "genre        62\n",
      "type         25\n",
      "episodes      0\n",
      "rating      230\n",
      "members       0\n",
      "dtype: int64\n"
     ]
    }
   ],
   "source": [
    "# Mengecek missing values\n",
    "print(df.isnull().sum())\n",
    "\n",
    "# Jika ada missing values, bisa dihapus atau diisi\n",
    "df = df.dropna()  # Menghapus baris dengan missing values\n",
    "# atau\n",
    "# df['rating'].fillna(df['rating'].mean(), inplace=True)  # Mengisi missing values dengan rata-rata\n"
   ]
  },
  {
   "cell_type": "code",
   "execution_count": 4,
   "metadata": {},
   "outputs": [
    {
     "name": "stdout",
     "output_type": "stream",
     "text": [
      "       anime_id                                               name  \\\n",
      "2         28977                                           Gintama°   \n",
      "4          9969                                      Gintama&#039;   \n",
      "5         32935  Haikyuu!!: Karasuno Koukou VS Shiratorizawa Ga...   \n",
      "7           820                               Ginga Eiyuu Densetsu   \n",
      "8         15335  Gintama Movie: Kanketsu-hen - Yorozuya yo Eien...   \n",
      "...         ...                                                ...   \n",
      "12289      9316       Toushindai My Lover: Minami tai Mecha-Minami   \n",
      "12290      5543                                        Under World   \n",
      "12291      5621                     Violence Gekiga David no Hoshi   \n",
      "12292      6133  Violence Gekiga Shin David no Hoshi: Inma Dens...   \n",
      "12293     26081                   Yasuji no Pornorama: Yacchimae!!   \n",
      "\n",
      "                                                   genre   type episodes  \\\n",
      "2      Action, Comedy, Historical, Parody, Samurai, S...     TV       51   \n",
      "4      Action, Comedy, Historical, Parody, Samurai, S...     TV       51   \n",
      "5                 Comedy, Drama, School, Shounen, Sports     TV       10   \n",
      "7                         Drama, Military, Sci-Fi, Space    OVA      110   \n",
      "8      Action, Comedy, Historical, Parody, Samurai, S...  Movie        1   \n",
      "...                                                  ...    ...      ...   \n",
      "12289                                             Hentai    OVA        1   \n",
      "12290                                             Hentai    OVA        1   \n",
      "12291                                             Hentai    OVA        4   \n",
      "12292                                             Hentai    OVA        1   \n",
      "12293                                             Hentai  Movie        1   \n",
      "\n",
      "       rating  members  z_score_rating  z_score_members  \n",
      "2        9.25   114262        2.707265         1.732216  \n",
      "4        9.16   151266        2.619358         2.400518  \n",
      "5        9.15    93351        2.609591         1.354558  \n",
      "7        9.11    80679        2.570521         1.125698  \n",
      "8        9.10    72534        2.560754         0.978597  \n",
      "...       ...      ...             ...              ...  \n",
      "12289    4.15      211       -2.274108        -0.327575  \n",
      "12290    4.28      183       -2.147132        -0.328080  \n",
      "12291    4.88      219       -1.561088        -0.327430  \n",
      "12292    4.98      175       -1.463414        -0.328225  \n",
      "12293    5.46      142       -0.994579        -0.328821  \n",
      "\n",
      "[11696 rows x 9 columns]\n"
     ]
    }
   ],
   "source": [
    "from scipy.stats import zscore\n",
    "\n",
    "# Menghitung z-score untuk kolom numerik\n",
    "df['z_score_rating'] = zscore(df['rating'])\n",
    "df['z_score_members'] = zscore(df['members'])\n",
    "\n",
    "# Menyaring outlier berdasarkan z-score\n",
    "df_no_outliers = df[(df['z_score_rating'].abs() <= 3) & (df['z_score_members'].abs() <= 3)]\n",
    "print(df_no_outliers)\n"
   ]
  },
  {
   "cell_type": "code",
   "execution_count": 5,
   "metadata": {},
   "outputs": [
    {
     "name": "stdout",
     "output_type": "stream",
     "text": [
      "       anime_id                                               name  \\\n",
      "7           820                               Ginga Eiyuu Densetsu   \n",
      "8         15335  Gintama Movie: Kanketsu-hen - Yorozuya yo Eien...   \n",
      "9         15417                           Gintama&#039;: Enchousen   \n",
      "10         4181                               Clannad: After Story   \n",
      "11        28851                                     Koe no Katachi   \n",
      "...         ...                                                ...   \n",
      "12289      9316       Toushindai My Lover: Minami tai Mecha-Minami   \n",
      "12290      5543                                        Under World   \n",
      "12291      5621                     Violence Gekiga David no Hoshi   \n",
      "12292      6133  Violence Gekiga Shin David no Hoshi: Inma Dens...   \n",
      "12293     26081                   Yasuji no Pornorama: Yacchimae!!   \n",
      "\n",
      "                                                   genre   type episodes  \\\n",
      "7                         Drama, Military, Sci-Fi, Space    OVA      110   \n",
      "8      Action, Comedy, Historical, Parody, Samurai, S...  Movie        1   \n",
      "9      Action, Comedy, Historical, Parody, Samurai, S...     TV       13   \n",
      "10     Drama, Fantasy, Romance, Slice of Life, Supern...     TV       24   \n",
      "11                                Drama, School, Shounen  Movie        1   \n",
      "...                                                  ...    ...      ...   \n",
      "12289                                             Hentai    OVA        1   \n",
      "12290                                             Hentai    OVA        1   \n",
      "12291                                             Hentai    OVA        4   \n",
      "12292                                             Hentai    OVA        1   \n",
      "12293                                             Hentai  Movie        1   \n",
      "\n",
      "       rating  members  z_score_rating  z_score_members  \n",
      "7        9.11    80679        2.570521         1.125698  \n",
      "8        9.10    72534        2.560754         0.978597  \n",
      "9        9.11    81109        2.570521         1.133464  \n",
      "10       9.06   456749        2.521684         7.917620  \n",
      "11       9.05   102733        2.511917         1.523999  \n",
      "...       ...      ...             ...              ...  \n",
      "12289    4.15      211       -2.274108        -0.327575  \n",
      "12290    4.28      183       -2.147132        -0.328080  \n",
      "12291    4.88      219       -1.561088        -0.327430  \n",
      "12292    4.98      175       -1.463414        -0.328225  \n",
      "12293    5.46      142       -0.994579        -0.328821  \n",
      "\n",
      "[11782 rows x 9 columns]\n"
     ]
    }
   ],
   "source": [
    "Q1 = df['rating'].quantile(0.25)\n",
    "Q3 = df['rating'].quantile(0.75)\n",
    "IQR = Q3 - Q1\n",
    "\n",
    "# Menyaring outlier menggunakan IQR\n",
    "df_no_outliers = df[(df['rating'] >= (Q1 - 1.5 * IQR)) & (df['rating'] <= (Q3 + 1.5 * IQR))]\n",
    "print(df_no_outliers)\n"
   ]
  },
  {
   "cell_type": "code",
   "execution_count": 6,
   "metadata": {},
   "outputs": [
    {
     "ename": "ModuleNotFoundError",
     "evalue": "No module named 'sklearn'",
     "output_type": "error",
     "traceback": [
      "\u001b[0;31m---------------------------------------------------------------------------\u001b[0m",
      "\u001b[0;31mModuleNotFoundError\u001b[0m                       Traceback (most recent call last)",
      "Cell \u001b[0;32mIn[6], line 1\u001b[0m\n\u001b[0;32m----> 1\u001b[0m \u001b[38;5;28;01mfrom\u001b[39;00m \u001b[38;5;21;01msklearn\u001b[39;00m\u001b[38;5;21;01m.\u001b[39;00m\u001b[38;5;21;01mpreprocessing\u001b[39;00m \u001b[38;5;28;01mimport\u001b[39;00m MinMaxScaler\n\u001b[1;32m      3\u001b[0m scaler \u001b[38;5;241m=\u001b[39m MinMaxScaler()\n\u001b[1;32m      5\u001b[0m \u001b[38;5;66;03m# Menormalisasi kolom 'rating' dan 'members'\u001b[39;00m\n",
      "\u001b[0;31mModuleNotFoundError\u001b[0m: No module named 'sklearn'"
     ]
    }
   ],
   "source": [
    "from sklearn.preprocessing import MinMaxScaler\n",
    "\n",
    "scaler = MinMaxScaler()\n",
    "\n",
    "# Menormalisasi kolom 'rating' dan 'members'\n",
    "df[['rating', 'members']] = scaler.fit_transform(df[['rating', 'members']])\n",
    "\n",
    "print(df)\n"
   ]
  },
  {
   "cell_type": "code",
   "execution_count": 7,
   "metadata": {},
   "outputs": [],
   "source": [
    "# Menyimpan DataFrame yang sudah dibersihkan ke file CSV\n",
    "df.to_csv('anime_data_cleaned.csv', index=False)\n"
   ]
  }
 ],
 "metadata": {
  "kernelspec": {
   "display_name": "myenv",
   "language": "python",
   "name": "python3"
  },
  "language_info": {
   "codemirror_mode": {
    "name": "ipython",
    "version": 3
   },
   "file_extension": ".py",
   "mimetype": "text/x-python",
   "name": "python",
   "nbconvert_exporter": "python",
   "pygments_lexer": "ipython3",
   "version": "3.12.6"
  }
 },
 "nbformat": 4,
 "nbformat_minor": 2
}
