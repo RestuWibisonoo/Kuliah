{
 "cells": [
  {
   "cell_type": "markdown",
   "id": "e2a030e3",
   "metadata": {},
   "source": [
    "# Hands-On Pertemuan 14: Advanced Machine Learning using Spark MLlib"
   ]
  },
  {
   "cell_type": "markdown",
   "id": "099562db",
   "metadata": {},
   "source": [
    "## Objectives:\n",
    "- Understand and implement advanced machine learning tasks using Spark MLlib.\n",
    "- Build and evaluate models using real-world datasets.\n",
    "- Explore techniques like feature engineering and hyperparameter tuning.\n"
   ]
  },
  {
   "cell_type": "markdown",
   "id": "77df771a",
   "metadata": {},
   "source": [
    "## Introduction to Spark MLlib\n",
    "Spark MLlib is a scalable library for machine learning that integrates seamlessly with the Spark ecosystem. It supports a wide range of tasks, including regression, classification, clustering, and collaborative filtering."
   ]
  },
  {
   "cell_type": "code",
   "execution_count": 8,
   "id": "1d512776",
   "metadata": {},
   "outputs": [],
   "source": [
    "from pyspark.sql import SparkSession\n",
    "from pyspark.ml.feature import VectorAssembler"
   ]
  },
  {
   "cell_type": "code",
   "execution_count": null,
   "id": "d9ae225b",
   "metadata": {},
   "outputs": [],
   "source": [
    "# Example: Linear Regression with Spark MLlib\n",
    "from pyspark.ml.regression import LinearRegression\n",
    "\n",
    "# Initialize Spark Session\n",
    "spark = SparkSession.builder.appName('MLlib Example').getOrCreate()\n",
    "\n",
    "# Load sample data\n",
    "data = [(1, 5.0, 20.0), (2, 10.0, 25.0), (3, 15.0, 30.0), (4, 20.0, 35.0)]\n",
    "columns = ['ID', 'Feature', 'Target']\n",
    "df = spark.createDataFrame(data, columns)\n",
    "\n",
    "# Prepare data for modeling\n",
    "assembler = VectorAssembler(inputCols=['Feature'], outputCol='Features')\n",
    "df_transformed = assembler.transform(df)\n",
    "\n",
    "# Train a linear regression model\n",
    "lr = LinearRegression(featuresCol='Features', labelCol='Target')\n",
    "model = lr.fit(df_transformed)\n",
    "\n",
    "# Print model coefficients\n",
    "print(f'Coefficients: {model.coefficients}')\n",
    "print(f'Intercept: {model.intercept}')"
   ]
  },
  {
   "cell_type": "code",
   "execution_count": null,
   "id": "0b266267",
   "metadata": {},
   "outputs": [],
   "source": [
    "# Practice: Logistic Regression\n",
    "from pyspark.ml.classification import LogisticRegression\n",
    "\n",
    "# Inisialisasi SparkSession\n",
    "spark = SparkSession.builder.appName(\"LogisticRegressionExample\").getOrCreate()\n",
    "\n",
    "# Contoh dataset\n",
    "data = [(1, 2.0, 3.0, 0), (2, 1.0, 5.0, 1), (3, 2.5, 4.5, 1), (4, 3.0, 6.0, 0)]\n",
    "columns = ['ID', 'Feature1', 'Feature2', 'Label']\n",
    "df = spark.createDataFrame(data, columns)\n",
    "\n",
    "# mengubah kolom feature1 dan feature2 menjadi vector\n",
    "assembler = VectorAssembler(inputCols=['Feature1', 'Feature2'], outputCol='Features')\n",
    "df = assembler.transform(df)\n",
    "\n",
    "# melatih model\n",
    "lr = LogisticRegression(featuresCol='Features', labelCol='Label')\n",
    "model = lr.fit(df)\n",
    "\n",
    "# menampilkan hasil\n",
    "print(f'Coefficients: {model.coefficients}')\n",
    "print(f'Intercept: {model.intercept}')"
   ]
  },
  {
   "cell_type": "code",
   "execution_count": null,
   "id": "b9066e04",
   "metadata": {},
   "outputs": [],
   "source": [
    "# Practice: Logistic Regression\n",
    "from pyspark.ml.classification import LogisticRegression\n",
    "\n",
    "# contoh dataset\n",
    "data = [(1, 2.0, 3.0, 0), (2, 1.0, 5.0, 1), (3, 2.5, 4.5, 1), (4, 3.0, 6.0, 0)]\n",
    "columns = ['ID', 'Feature1', 'Feature2', 'Label']\n",
    "df = spark.createDataFrame(data, columns)\n",
    "\n",
    "# menguhab kolom feature1 dan feature2 menjadi vector\n",
    "assembler = VectorAssembler(inputCols=['Feature1', 'Feature2'], outputCol='Features')\n",
    "df = assembler.transform(df)\n",
    "\n",
    "# melatih model\n",
    "lr = LogisticRegression(featuresCol='Features', labelCol='Label')\n",
    "model = lr.fit(df)\n",
    "\n",
    "# menampilkan hasil\n",
    "print(f'Coefficients: {model.coefficients}')\n",
    "print(f'Intercept: {model.intercept}')"
   ]
  },
  {
   "cell_type": "markdown",
   "id": "a60a8d7e",
   "metadata": {},
   "source": [
    "## Homework\n",
    "- Load a real-world dataset into Spark and prepare it for machine learning tasks.\n",
    "- Build a classification model using Spark MLlib and evaluate its performance.\n",
    "- Explore hyperparameter tuning using cross-validation.\n"
   ]
  }
 ],
 "metadata": {
  "kernelspec": {
   "display_name": "myenv",
   "language": "python",
   "name": "python3"
  },
  "language_info": {
   "codemirror_mode": {
    "name": "ipython",
    "version": 3
   },
   "file_extension": ".py",
   "mimetype": "text/x-python",
   "name": "python",
   "nbconvert_exporter": "python",
   "pygments_lexer": "ipython3",
   "version": "3.12.6"
  }
 },
 "nbformat": 4,
 "nbformat_minor": 5
}
